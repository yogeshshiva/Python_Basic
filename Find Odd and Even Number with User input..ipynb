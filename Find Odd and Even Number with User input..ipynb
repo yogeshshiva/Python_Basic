{
 "cells": [
  {
   "cell_type": "code",
   "execution_count": 7,
   "id": "8ed2409b",
   "metadata": {},
   "outputs": [
    {
     "name": "stdout",
     "output_type": "stream",
     "text": [
      "Enter your number.73363772747423\n",
      "This is Odd Number.\n"
     ]
    }
   ],
   "source": [
    "num = int(input(\"Enter your number.\"))\n",
    "\n",
    "if (num % 2 == 0):\n",
    "    print(\"This is Even Number.\")\n",
    "elif (num % 2 != 0):\n",
    "    print(\"This is Odd Number.\")\n",
    "else:\n",
    "    print(\"Invalid input.\")"
   ]
  }
 ],
 "metadata": {
  "kernelspec": {
   "display_name": "Python 3 (ipykernel)",
   "language": "python",
   "name": "python3"
  },
  "language_info": {
   "codemirror_mode": {
    "name": "ipython",
    "version": 3
   },
   "file_extension": ".py",
   "mimetype": "text/x-python",
   "name": "python",
   "nbconvert_exporter": "python",
   "pygments_lexer": "ipython3",
   "version": "3.9.12"
  }
 },
 "nbformat": 4,
 "nbformat_minor": 5
}
