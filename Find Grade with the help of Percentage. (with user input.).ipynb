{
 "cells": [
  {
   "cell_type": "code",
   "execution_count": 5,
   "id": "1884ffe3",
   "metadata": {},
   "outputs": [
    {
     "name": "stdout",
     "output_type": "stream",
     "text": [
      "Enter Your Percentage.57\n",
      "Your Grade is C.\n"
     ]
    }
   ],
   "source": [
    "percentage = float(input(\"Enter Your Percentage.\"))\n",
    "\n",
    "if (percentage >= 90) and (percentage <= 100):\n",
    "    print(\"Your Grade is A.\")\n",
    "elif (percentage >= 60) and (percentage <= 89):\n",
    "    print(\"Your Grade is B.\")\n",
    "elif (percentage >= 45) and (percentage <= 59):\n",
    "    print(\"Your Grade is C.\")\n",
    "elif (percentage >= 33) and (percentage <=44):\n",
    "    print(\"Your Grade is D.\")\n",
    "elif (percentage >= 0) and (percentage <= 32):\n",
    "    print(\"Your Grade is E.\")\n",
    "else:\n",
    "    print(\"Invalid Input.\")"
   ]
  }
 ],
 "metadata": {
  "kernelspec": {
   "display_name": "Python 3 (ipykernel)",
   "language": "python",
   "name": "python3"
  },
  "language_info": {
   "codemirror_mode": {
    "name": "ipython",
    "version": 3
   },
   "file_extension": ".py",
   "mimetype": "text/x-python",
   "name": "python",
   "nbconvert_exporter": "python",
   "pygments_lexer": "ipython3",
   "version": "3.9.12"
  }
 },
 "nbformat": 4,
 "nbformat_minor": 5
}
