{
 "cells": [
  {
   "cell_type": "code",
   "execution_count": null,
   "id": "3dc93522",
   "metadata": {},
   "outputs": [],
   "source": [
    "Question 1) write a program to make a class of simplified airthemetic opperation and try to get\n",
    "the output of that class through the object. \n",
    "\n",
    "Question 2) write a program to make a class of car and find its actual price, if the car is of more \n",
    "than 10 lakh then there is a tax of 14% on the car and if the car is less than 10 lakh then there is \n",
    "some discout of 7.8% on the car. Find the actual price of the paid by the user.\n",
    "\n",
    "Question 3)   a = [56, 78, 34, 90, 23]\n",
    "            Find max with the help of function.\n",
    "\n",
    "Question 4)   a = [56, 78, 34, 90, 23]\n",
    "            Write a program to find second highest number?\n"
   ]
  },
  {
   "cell_type": "code",
   "execution_count": 8,
   "id": "98adf824",
   "metadata": {},
   "outputs": [
    {
     "name": "stdout",
     "output_type": "stream",
     "text": [
      "add---, 60 \n",
      "sub--- 20 \n",
      "mul--- 800 \n",
      "div---- 2.0\n"
     ]
    }
   ],
   "source": [
    "# Answer 1)\n",
    "\n",
    "class airthmetic_operation:\n",
    "        def function(self,a,b):\n",
    "            add = a+b\n",
    "            sub = a-b\n",
    "            mul = a*b\n",
    "            div = a/b\n",
    "            print(\"add---,\",add,\"\\nsub---\",sub,\"\\nmul---\",mul,\"\\ndiv----\",div)\n",
    "a = airthmetic_operation()\n",
    "a.function(40,20)"
   ]
  },
  {
   "cell_type": "code",
   "execution_count": 1,
   "id": "99cbb1fb",
   "metadata": {},
   "outputs": [
    {
     "name": "stdout",
     "output_type": "stream",
     "text": [
      "your tax is = 10608762.92\n",
      "Total price after tax is = 86385640.92\n"
     ]
    }
   ],
   "source": [
    "# Answer 2)\n",
    "\n",
    "class car:\n",
    "    def function(self):\n",
    "        price = 75776878\n",
    "        tax = (price * 14)/100\n",
    "        discount= (price * 7.8)/100\n",
    "        total_price_after_tax = price + tax\n",
    "        total_price_after_discount = price - discount\n",
    "        if price>1000000:\n",
    "            print(\"your tax is =\",tax)\n",
    "            print(\"Total price after tax is =\",total_price_after_tax)\n",
    "        elif price<1000000:\n",
    "            print(\"Congratulation you have a discount =\",discount)\n",
    "            print(\"Total price after discount =\",total_price_after_discount)\n",
    "        elif price==1000000:\n",
    "            print(\"No discount.\")\n",
    "        else:\n",
    "            print(\"Invalid Input.\")\n",
    "c = car()\n",
    "c.function()"
   ]
  },
  {
   "cell_type": "code",
   "execution_count": 13,
   "id": "fbe09a6d",
   "metadata": {},
   "outputs": [
    {
     "name": "stdout",
     "output_type": "stream",
     "text": [
      "Greatest num 90\n"
     ]
    }
   ],
   "source": [
    "# Answer 3)\n",
    "\n",
    "a = [56, 78, 34, 90, 23]\n",
    "def max(a):           \n",
    "    max = a[0]\n",
    "\n",
    "    for i in a:\n",
    "        if i>max:\n",
    "            max = i\n",
    "    print(\"Greatest num\",max)\n",
    "max(a)"
   ]
  },
  {
   "cell_type": "code",
   "execution_count": 16,
   "id": "9d5b65e2",
   "metadata": {},
   "outputs": [
    {
     "name": "stdout",
     "output_type": "stream",
     "text": [
      "78\n"
     ]
    }
   ],
   "source": [
    "# Answer 4)\n",
    "\n",
    "a = [56, 78, 34, 90, 23]\n",
    "class maximum:\n",
    "    def max(self,a):\n",
    "        b = a[0]\n",
    "        c = a[1]\n",
    "        for i in a:\n",
    "            if b < i:\n",
    "                b = i\n",
    "            elif c < i:\n",
    "                c = i\n",
    "        if b < c:\n",
    "            print(b)\n",
    "        else:\n",
    "            print(c)\n",
    "s = maximum()\n",
    "s.max(a)"
   ]
  },
  {
   "cell_type": "code",
   "execution_count": 19,
   "id": "dd12ddf5",
   "metadata": {},
   "outputs": [
    {
     "data": {
      "text/plain": [
       "[23, 34, 56, 78, 90]"
      ]
     },
     "execution_count": 19,
     "metadata": {},
     "output_type": "execute_result"
    }
   ],
   "source": [
    "# Answer 4)    second method\n",
    "\n",
    "a = [56, 78, 34, 90, 23]\n",
    "a.sort()\n",
    "a[-2]           # always comes here"
   ]
  }
 ],
 "metadata": {
  "kernelspec": {
   "display_name": "Python 3 (ipykernel)",
   "language": "python",
   "name": "python3"
  },
  "language_info": {
   "codemirror_mode": {
    "name": "ipython",
    "version": 3
   },
   "file_extension": ".py",
   "mimetype": "text/x-python",
   "name": "python",
   "nbconvert_exporter": "python",
   "pygments_lexer": "ipython3",
   "version": "3.9.12"
  }
 },
 "nbformat": 4,
 "nbformat_minor": 5
}
