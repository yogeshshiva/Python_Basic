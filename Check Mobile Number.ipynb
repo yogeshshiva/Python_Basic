{
 "cells": [
  {
   "cell_type": "markdown",
   "id": "2e4014a8",
   "metadata": {},
   "source": [
    "# Check Mobile Number"
   ]
  },
  {
   "cell_type": "code",
   "execution_count": 7,
   "id": "6c37415d",
   "metadata": {},
   "outputs": [
    {
     "name": "stdout",
     "output_type": "stream",
     "text": [
      "Enter your update Mobile Number.\n",
      "9548340964\n",
      "Your mobile number is successfully update.\n"
     ]
    }
   ],
   "source": [
    "mobile = input(\"Enter your update Mobile Number.\\n\")\n",
    "\n",
    "a = mobile.isdigit()\n",
    "length_of_mobile = len(mobile)\n",
    "\n",
    "if a == True:\n",
    "    if (length_of_mobile == 10):\n",
    "        print(\"Your mobile number is successfully update.\")\n",
    "    else:\n",
    "        print(\"Enter correct mobile number.\")\n",
    "else:\n",
    "    print(\"Invalid Input.\")"
   ]
  }
 ],
 "metadata": {
  "kernelspec": {
   "display_name": "Python 3 (ipykernel)",
   "language": "python",
   "name": "python3"
  },
  "language_info": {
   "codemirror_mode": {
    "name": "ipython",
    "version": 3
   },
   "file_extension": ".py",
   "mimetype": "text/x-python",
   "name": "python",
   "nbconvert_exporter": "python",
   "pygments_lexer": "ipython3",
   "version": "3.9.12"
  }
 },
 "nbformat": 4,
 "nbformat_minor": 5
}
