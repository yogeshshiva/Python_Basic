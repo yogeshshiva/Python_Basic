{
 "cells": [
  {
   "cell_type": "markdown",
   "id": "921bb891",
   "metadata": {},
   "source": [
    "# Question With Answer"
   ]
  },
  {
   "cell_type": "markdown",
   "id": "925e741a",
   "metadata": {},
   "source": [
    "Question )  Write to reverse a list by using function ?"
   ]
  },
  {
   "cell_type": "code",
   "execution_count": 1,
   "id": "d86a670c",
   "metadata": {},
   "outputs": [
    {
     "name": "stdout",
     "output_type": "stream",
     "text": [
      "['shiva', 85.5, 56, 'kamal', 'yogesh']\n"
     ]
    }
   ],
   "source": [
    "def reverse():\n",
    "    x = [\"yogesh\", \"kamal\", 56, 85.5, \"shiva\"]\n",
    "    x.reverse()\n",
    "    print(x)\n",
    "reverse()"
   ]
  },
  {
   "cell_type": "markdown",
   "id": "240024bd",
   "metadata": {},
   "source": [
    "Question )  Write to swap a first and last no of the list by using function ?"
   ]
  },
  {
   "cell_type": "code",
   "execution_count": 3,
   "id": "a9a99c14",
   "metadata": {},
   "outputs": [
    {
     "name": "stdout",
     "output_type": "stream",
     "text": [
      "[84, 76, 'raju', 'yogesh']\n"
     ]
    }
   ],
   "source": [
    "def swap():\n",
    "    x = [\"yogesh\", 76, \"raju\", 84]\n",
    "    x[-1] = \"yogesh\"\n",
    "    x[0] = 84\n",
    "    print(x)\n",
    "swap()"
   ]
  },
  {
   "cell_type": "markdown",
   "id": "74f9f16a",
   "metadata": {},
   "source": [
    "Question )  Write to find maximum no in a list by using Function ?"
   ]
  },
  {
   "cell_type": "code",
   "execution_count": 7,
   "id": "c8ec4b7d",
   "metadata": {},
   "outputs": [
    {
     "name": "stdout",
     "output_type": "stream",
     "text": [
      "Greatest Number is  763\n"
     ]
    }
   ],
   "source": [
    "def maxi():\n",
    "    x = [102, 298, 763, 674]\n",
    "    maximum = x[0]\n",
    "    for i in x:\n",
    "        if i > maximum:\n",
    "            maximum = i\n",
    "    print(\"Greatest Number is \",maximum)\n",
    "maxi()"
   ]
  },
  {
   "cell_type": "markdown",
   "id": "7f8cb8d7",
   "metadata": {},
   "source": [
    "Question )  Write to find minimum no in a list by using Function ?"
   ]
  },
  {
   "cell_type": "code",
   "execution_count": 9,
   "id": "e3fe7ff2",
   "metadata": {},
   "outputs": [
    {
     "name": "stdout",
     "output_type": "stream",
     "text": [
      "Minimum Number is  102\n"
     ]
    }
   ],
   "source": [
    "def mini():\n",
    "    z = [567, 102, 298, 763, 674]\n",
    "    minimum = z[0]\n",
    "    for i in z:\n",
    "        if i < minimum:\n",
    "            minimum = i\n",
    "    print(\"Minimum Number is \",minimum)\n",
    "mini()"
   ]
  },
  {
   "cell_type": "markdown",
   "id": "c50cf232",
   "metadata": {},
   "source": [
    "Question )  Write to sum of the no present in a list by using Function ?"
   ]
  },
  {
   "cell_type": "code",
   "execution_count": 11,
   "id": "d6cd307e",
   "metadata": {},
   "outputs": [
    {
     "name": "stdout",
     "output_type": "stream",
     "text": [
      "224\n"
     ]
    }
   ],
   "source": [
    "def add():\n",
    "    a = [34, 45, 89, 56]\n",
    "    b = 0\n",
    "    for i in a:\n",
    "        b = i + b\n",
    "    print(b)\n",
    "add()"
   ]
  },
  {
   "cell_type": "markdown",
   "id": "ec9e4f04",
   "metadata": {},
   "source": [
    "Question )  Write to print even no in a list? "
   ]
  },
  {
   "cell_type": "code",
   "execution_count": 18,
   "id": "fb6509ce",
   "metadata": {},
   "outputs": [
    {
     "name": "stdout",
     "output_type": "stream",
     "text": [
      "The even no is  98\n",
      "The even no is  54\n",
      "The even no is  44\n",
      "The even no is  134\n"
     ]
    }
   ],
   "source": [
    "a = [98, 54, 73, 23, 65, 44, 134]\n",
    "for i in a:\n",
    "    if i%2==0:\n",
    "        print(\"The even no is \",i)"
   ]
  },
  {
   "cell_type": "markdown",
   "id": "730da55c",
   "metadata": {},
   "source": [
    "Question )  Write to print odd no in a list by using function ?"
   ]
  },
  {
   "cell_type": "code",
   "execution_count": 19,
   "id": "555b3e23",
   "metadata": {},
   "outputs": [
    {
     "name": "stdout",
     "output_type": "stream",
     "text": [
      "The odd no is  73\n",
      "The odd no is  23\n",
      "The odd no is  65\n"
     ]
    }
   ],
   "source": [
    "x = [98, 54, 73, 23, 65, 44, 134]\n",
    "for i in x:\n",
    "    if i%2!=0:\n",
    "        print(\"The odd no is \",i)"
   ]
  },
  {
   "cell_type": "markdown",
   "id": "764feacb",
   "metadata": {},
   "source": [
    "Question )  Write to find common element in the list by using function ?"
   ]
  },
  {
   "cell_type": "code",
   "execution_count": 26,
   "id": "ebdacf89",
   "metadata": {},
   "outputs": [
    {
     "name": "stdout",
     "output_type": "stream",
     "text": [
      "89\n"
     ]
    }
   ],
   "source": [
    "def element():\n",
    "    a = [34, 45, 89, 56]\n",
    "    b = [67, 89, 23, 90]\n",
    "    for i in a:\n",
    "        for j in b:\n",
    "            if i == j:\n",
    "                print(i)\n",
    "element()"
   ]
  },
  {
   "cell_type": "markdown",
   "id": "b4867844",
   "metadata": {},
   "source": [
    "Question )  Write a program to count odd and even no in a list by using function ?"
   ]
  },
  {
   "cell_type": "code",
   "execution_count": 29,
   "id": "46446dd8",
   "metadata": {},
   "outputs": [
    {
     "name": "stdout",
     "output_type": "stream",
     "text": [
      "This is even no. 78\n",
      "This is odd no  89\n",
      "This is odd no  45\n",
      "This is odd no  23\n",
      "This is even no. 100\n",
      "count even no  2\n",
      "count odd no  3\n"
     ]
    }
   ],
   "source": [
    "def even():\n",
    "    x = [78, 89, 45, 23, 100]\n",
    "    count_even = 0\n",
    "    count_odd = 0\n",
    "    for i in x:\n",
    "        if i%2==0:\n",
    "            print(\"This is even no.\",i)\n",
    "            count_even = count_even + 1\n",
    "        else:\n",
    "            count_odd = count_odd + 1\n",
    "            print(\"This is odd no \",i)\n",
    "    print(\"count even no \",count_even)\n",
    "    print(\"count odd no \",count_odd)\n",
    "even()"
   ]
  },
  {
   "cell_type": "markdown",
   "id": "9ed3ce16",
   "metadata": {},
   "source": [
    "Question )  Write a program to create single element list by using function ?"
   ]
  },
  {
   "cell_type": "code",
   "execution_count": 30,
   "id": "b3ffa7f1",
   "metadata": {},
   "outputs": [
    {
     "name": "stdout",
     "output_type": "stream",
     "text": [
      "[88]\n",
      "<class 'list'>\n"
     ]
    }
   ],
   "source": [
    "def single():\n",
    "    x = [88]\n",
    "    print(x)\n",
    "    print(type(x))\n",
    "single()"
   ]
  },
  {
   "cell_type": "markdown",
   "id": "58a56d35",
   "metadata": {},
   "source": [
    "Question )  Write a program to create empty list by using function ?"
   ]
  },
  {
   "cell_type": "code",
   "execution_count": 31,
   "id": "3e8aa62d",
   "metadata": {},
   "outputs": [
    {
     "name": "stdout",
     "output_type": "stream",
     "text": [
      "[]\n",
      "<class 'list'>\n"
     ]
    }
   ],
   "source": [
    "def empty():\n",
    "    y = []\n",
    "    print(y)\n",
    "    print(type(y))\n",
    "empty()"
   ]
  },
  {
   "cell_type": "markdown",
   "id": "dc1583ee",
   "metadata": {},
   "source": [
    "Question )  Write a program to add data in a tuple by using function ?"
   ]
  },
  {
   "cell_type": "code",
   "execution_count": 43,
   "id": "ed5e87f6",
   "metadata": {},
   "outputs": [
    {
     "name": "stdout",
     "output_type": "stream",
     "text": [
      "(34, 45, 67, 90, 1, 3, 54, 24)\n"
     ]
    }
   ],
   "source": [
    "def add():\n",
    "    a = (34, 45, 67, 90, 1, 3, 54)\n",
    "    b = list(a)\n",
    "    b.append(24)\n",
    "    c = tuple(b)\n",
    "    print(c)\n",
    "add()"
   ]
  },
  {
   "cell_type": "markdown",
   "id": "75e0346b",
   "metadata": {},
   "source": [
    "Question )  Write a program to delete(remove) data in a tuple by using Function ?"
   ]
  },
  {
   "cell_type": "code",
   "execution_count": 44,
   "id": "cc357464",
   "metadata": {},
   "outputs": [
    {
     "name": "stdout",
     "output_type": "stream",
     "text": [
      "(69, 85, 24, 55)\n"
     ]
    }
   ],
   "source": [
    "def delete():\n",
    "    a = (69, 85, 24, 65, 55)\n",
    "    x = list(a)\n",
    "    x.remove(65)\n",
    "    d = tuple(x)\n",
    "    print(d)\n",
    "delete()"
   ]
  },
  {
   "cell_type": "markdown",
   "id": "b094aceb",
   "metadata": {},
   "source": [
    "Question )  Write a program to add more than one in a tuple by using Function ? "
   ]
  },
  {
   "cell_type": "code",
   "execution_count": 52,
   "id": "10e10971",
   "metadata": {},
   "outputs": [
    {
     "name": "stdout",
     "output_type": "stream",
     "text": [
      "(65, 85, 75, 31, 69, 45, 23)\n"
     ]
    }
   ],
   "source": [
    "def addd():\n",
    "    x = (65, 85, 75, 31)\n",
    "    y = list(x)\n",
    "    y.extend([69, 45, 23])\n",
    "    z = tuple(y)\n",
    "    print(z)\n",
    "addd()"
   ]
  },
  {
   "cell_type": "markdown",
   "id": "4753959e",
   "metadata": {},
   "source": [
    "Question )  Write a program to make a dict of employ having name, emp_id, and salary by using Function ?"
   ]
  },
  {
   "cell_type": "code",
   "execution_count": 54,
   "id": "bd47ed10",
   "metadata": {},
   "outputs": [
    {
     "name": "stdout",
     "output_type": "stream",
     "text": [
      "{'name': 'Yogesh', 'emp_id': 5487565, 'salary': 56000}\n"
     ]
    }
   ],
   "source": [
    "def employ():\n",
    "    x = {\n",
    "        'name'   : \"Yogesh\",\n",
    "        'emp_id' :  5487565,\n",
    "        'salary' :  56000\n",
    "    }\n",
    "    print(x)\n",
    "employ()"
   ]
  },
  {
   "cell_type": "markdown",
   "id": "7939334a",
   "metadata": {},
   "source": [
    "Question )  Write a program to make single element dict by using function ?"
   ]
  },
  {
   "cell_type": "code",
   "execution_count": 59,
   "id": "9f10bc97",
   "metadata": {},
   "outputs": [
    {
     "name": "stdout",
     "output_type": "stream",
     "text": [
      "{'name': ''}\n"
     ]
    }
   ],
   "source": [
    "def single():\n",
    "    y = {\n",
    "        'name' :  \"\",\n",
    "    }\n",
    "    print(y)\n",
    "single()"
   ]
  },
  {
   "cell_type": "markdown",
   "id": "c44bc5df",
   "metadata": {},
   "source": [
    "Question ) Write a program to make empty dict by using function ?"
   ]
  },
  {
   "cell_type": "code",
   "execution_count": 62,
   "id": "07b0a2aa",
   "metadata": {},
   "outputs": [
    {
     "name": "stdout",
     "output_type": "stream",
     "text": [
      "{}\n",
      "<class 'dict'>\n"
     ]
    }
   ],
   "source": [
    "def empty():\n",
    "    z = {\n",
    "\n",
    "    }\n",
    "    print(z)\n",
    "    print(type(z))\n",
    "empty()"
   ]
  },
  {
   "cell_type": "markdown",
   "id": "c2a5b423",
   "metadata": {},
   "source": [
    "Question )  Write a program to make a dict of employ having name, emp_id, and salary and get emp_id by using Function ?"
   ]
  },
  {
   "cell_type": "code",
   "execution_count": 65,
   "id": "b4a69f37",
   "metadata": {},
   "outputs": [
    {
     "name": "stdout",
     "output_type": "stream",
     "text": [
      "the employ id is  5685421\n"
     ]
    }
   ],
   "source": [
    "def employ():\n",
    "    x = {\n",
    "        'name'   : 'yogesh',\n",
    "        'emp_id' :  5685421,\n",
    "        'salary' :  65000\n",
    "    }\n",
    "    c = x.get(\"emp_id\")\n",
    "    print(\"the employ id is \",c)\n",
    "employ()"
   ]
  },
  {
   "cell_type": "markdown",
   "id": "4485de11",
   "metadata": {},
   "source": [
    "Question )  Write a program to make a dict of employ having name, emp_id, and salary and use find function by using Function ?"
   ]
  },
  {
   "cell_type": "code",
   "execution_count": 66,
   "id": "e910ffda",
   "metadata": {},
   "outputs": [
    {
     "name": "stdout",
     "output_type": "stream",
     "text": [
      "dict_items([('name', 'kamal'), ('emp_id', 564521), ('salary', 65300)])\n"
     ]
    }
   ],
   "source": [
    "def items():\n",
    "    a = {\n",
    "        'name'   :   \"kamal\",\n",
    "        'emp_id' :  564521,\n",
    "        'salary' :  65300\n",
    "    }\n",
    "    b = a.items()\n",
    "    print(b)\n",
    "items()"
   ]
  },
  {
   "cell_type": "markdown",
   "id": "f1b6f7d0",
   "metadata": {},
   "source": [
    "Question )  Write a program to make a dict of employ having name, emp_id, and salary and copy this another variable by using Function ?"
   ]
  },
  {
   "cell_type": "code",
   "execution_count": 67,
   "id": "d25dad61",
   "metadata": {},
   "outputs": [
    {
     "name": "stdout",
     "output_type": "stream",
     "text": [
      "{'name': 'shiva', 'emp_id': 564215, 'salary': 54800}\n"
     ]
    }
   ],
   "source": [
    "def copy():\n",
    "    z = {\n",
    "        'name'    : \"shiva\",\n",
    "        'emp_id'  :  564215,\n",
    "        'salary'  :  54800\n",
    "    }\n",
    "    e = z.copy()\n",
    "    print(e)\n",
    "copy()"
   ]
  },
  {
   "cell_type": "markdown",
   "id": "da7a63d9",
   "metadata": {},
   "source": [
    "Question )  Write a program to make a dict of employ having name, emp_id, and salary and find keys by using Function ?"
   ]
  },
  {
   "cell_type": "code",
   "execution_count": 68,
   "id": "4684954d",
   "metadata": {},
   "outputs": [
    {
     "name": "stdout",
     "output_type": "stream",
     "text": [
      "dict_keys(['name', 'emp_id', 'salary'])\n"
     ]
    }
   ],
   "source": [
    "def keys():\n",
    "    y = {\n",
    "        'name'   :  \"Rockey\",\n",
    "        'emp_id' :   5686542,\n",
    "        'salary' :   63200\n",
    "    }\n",
    "    z = y.keys()\n",
    "    print(z)\n",
    "keys()"
   ]
  },
  {
   "cell_type": "markdown",
   "id": "3b0c784f",
   "metadata": {},
   "source": [
    "Question )  Write a program to make a dict of employ having name, emp_id, and salary and using pop function delete employ id by using Function ?"
   ]
  },
  {
   "cell_type": "code",
   "execution_count": 72,
   "id": "e7344cf5",
   "metadata": {},
   "outputs": [
    {
     "name": "stdout",
     "output_type": "stream",
     "text": [
      "{'name': 'yogesh', 'salary': 65420}\n"
     ]
    }
   ],
   "source": [
    "def pops():\n",
    "    k = {\n",
    "        'name'   :  \"yogesh\",\n",
    "        'emp_id' :   652324,\n",
    "        'salary' :   65420\n",
    "    }\n",
    "    y = k.pop('emp_id')\n",
    "    print(k)\n",
    "pops()"
   ]
  },
  {
   "cell_type": "markdown",
   "id": "52d65c81",
   "metadata": {},
   "source": [
    "Question )  Write a program to make a dict of employ having name, emp_id, and update salary by using Function ?"
   ]
  },
  {
   "cell_type": "code",
   "execution_count": 75,
   "id": "5ebb6b68",
   "metadata": {},
   "outputs": [
    {
     "name": "stdout",
     "output_type": "stream",
     "text": [
      "{'name': 'yogesh', 'emp_id': 546254, 'salary': 32500}\n"
     ]
    }
   ],
   "source": [
    "def salary():\n",
    "    z = {\n",
    "        'name'  : 'yogesh',\n",
    "        'emp_id': 546254 \n",
    "    }\n",
    "    x = {\n",
    "        'salary' : 32500\n",
    "    }\n",
    "    z.update(x)\n",
    "    print(z)\n",
    "salary()"
   ]
  },
  {
   "cell_type": "markdown",
   "id": "f92e08ed",
   "metadata": {},
   "source": [
    "Question )  Write a program to make a dict of employ having name, emp_id, and salary and find values by using Function ?"
   ]
  },
  {
   "cell_type": "code",
   "execution_count": 77,
   "id": "edb5b68e",
   "metadata": {},
   "outputs": [
    {
     "name": "stdout",
     "output_type": "stream",
     "text": [
      "dict_values(['kamal', 4552154, 65300])\n"
     ]
    }
   ],
   "source": [
    "def values():\n",
    "    a = {\n",
    "        'name'    :   \"kamal\",\n",
    "        'emp_id'  :   4552154,\n",
    "        'salary'  :  65300\n",
    "    }\n",
    "    c = a.values()\n",
    "    print(c)\n",
    "values()"
   ]
  },
  {
   "cell_type": "markdown",
   "id": "d974aa33",
   "metadata": {},
   "source": [
    "Question )  Write a program to make a dict of employ having name, emp_id, and salary after that clear all data by using Function ?"
   ]
  },
  {
   "cell_type": "code",
   "execution_count": 78,
   "id": "a96e13a0",
   "metadata": {},
   "outputs": [
    {
     "name": "stdout",
     "output_type": "stream",
     "text": [
      "{}\n"
     ]
    }
   ],
   "source": [
    "def clear():\n",
    "    e = {\n",
    "        'name'   :  \"Shiva\",\n",
    "        'emp_id' :  652100,\n",
    "        'salary' :  63200\n",
    "    }\n",
    "    e.clear()\n",
    "    print(e)\n",
    "clear()"
   ]
  },
  {
   "cell_type": "code",
   "execution_count": null,
   "id": "58bdc93d",
   "metadata": {},
   "outputs": [],
   "source": [
    "sets"
   ]
  },
  {
   "cell_type": "code",
   "execution_count": 81,
   "id": "327ff978",
   "metadata": {},
   "outputs": [
    {
     "name": "stdout",
     "output_type": "stream",
     "text": [
      "{32, 65, 45, 25}\n",
      "<class 'set'>\n"
     ]
    }
   ],
   "source": [
    "def sets():\n",
    "    x = {45, 25, 65, 32}\n",
    "    print(x)\n",
    "    print(type(x))\n",
    "sets()"
   ]
  },
  {
   "cell_type": "code",
   "execution_count": null,
   "id": "d01e1a70",
   "metadata": {},
   "outputs": [],
   "source": [
    "sets --- > add"
   ]
  },
  {
   "cell_type": "code",
   "execution_count": 82,
   "id": "76d44939",
   "metadata": {},
   "outputs": [
    {
     "name": "stdout",
     "output_type": "stream",
     "text": [
      "{10, 20, 50, 30}\n"
     ]
    }
   ],
   "source": [
    "def add():\n",
    "    x = {10, 20, 30}\n",
    "    x.add(50)\n",
    "    print(x)\n",
    "add()"
   ]
  },
  {
   "cell_type": "code",
   "execution_count": null,
   "id": "9ac20a6b",
   "metadata": {},
   "outputs": [],
   "source": [
    "sets ---- > set()"
   ]
  },
  {
   "cell_type": "code",
   "execution_count": 83,
   "id": "7329b8cc",
   "metadata": {},
   "outputs": [
    {
     "name": "stdout",
     "output_type": "stream",
     "text": [
      "{10, 20, 30}\n",
      "<class 'set'>\n"
     ]
    }
   ],
   "source": [
    "def sets():\n",
    "    x = [10, 20, 30]\n",
    "    s = set(x)\n",
    "    print(s)\n",
    "    print(type(s))\n",
    "sets()"
   ]
  },
  {
   "cell_type": "code",
   "execution_count": null,
   "id": "6bbad2ea",
   "metadata": {},
   "outputs": [],
   "source": [
    "sets ----- > pop()"
   ]
  },
  {
   "cell_type": "code",
   "execution_count": 85,
   "id": "3f41a497",
   "metadata": {},
   "outputs": [
    {
     "name": "stdout",
     "output_type": "stream",
     "text": [
      "{35, 12, 25}\n"
     ]
    }
   ],
   "source": [
    "def pop():\n",
    "    x = {12, 25, 65, 35}\n",
    "    x.pop()\n",
    "    print(x)\n",
    "pop()"
   ]
  },
  {
   "cell_type": "code",
   "execution_count": null,
   "id": "6eb4b918",
   "metadata": {},
   "outputs": [],
   "source": [
    "sets ---- > remove()"
   ]
  },
  {
   "cell_type": "code",
   "execution_count": 86,
   "id": "21389905",
   "metadata": {},
   "outputs": [
    {
     "name": "stdout",
     "output_type": "stream",
     "text": [
      "{25, 36, 54}\n"
     ]
    }
   ],
   "source": [
    "def remove():\n",
    "    y = {25, 36, 24, 54}\n",
    "    y.remove(24)\n",
    "    print(y)\n",
    "remove()"
   ]
  },
  {
   "cell_type": "code",
   "execution_count": null,
   "id": "8ad1d0cd",
   "metadata": {},
   "outputs": [],
   "source": [
    "sets ---- > clear()"
   ]
  },
  {
   "cell_type": "code",
   "execution_count": 87,
   "id": "1552af5e",
   "metadata": {},
   "outputs": [
    {
     "name": "stdout",
     "output_type": "stream",
     "text": [
      "set()\n"
     ]
    }
   ],
   "source": [
    "def clear():\n",
    "    y = {25, 36, 24, 54}\n",
    "    y.clear()\n",
    "    print(y)\n",
    "clear()"
   ]
  },
  {
   "cell_type": "code",
   "execution_count": null,
   "id": "dfbcc8c3",
   "metadata": {},
   "outputs": [],
   "source": [
    "sets ---- > discard()"
   ]
  },
  {
   "cell_type": "code",
   "execution_count": 88,
   "id": "8ce2f78d",
   "metadata": {},
   "outputs": [
    {
     "name": "stdout",
     "output_type": "stream",
     "text": [
      "{24, 25, 54}\n"
     ]
    }
   ],
   "source": [
    "def discard():\n",
    "    y = {25, 36, 24, 54}\n",
    "    y.discard(36)\n",
    "    print(y)\n",
    "discard()"
   ]
  },
  {
   "cell_type": "code",
   "execution_count": null,
   "id": "45ffae6b",
   "metadata": {},
   "outputs": [],
   "source": [
    "sets ---- > update()"
   ]
  },
  {
   "cell_type": "code",
   "execution_count": 89,
   "id": "21bf99fc",
   "metadata": {},
   "outputs": [
    {
     "name": "stdout",
     "output_type": "stream",
     "text": [
      "{36, 77, 54, 87, 24, 25}\n"
     ]
    }
   ],
   "source": [
    "def update():\n",
    "    y = {25, 36, 24, 54}\n",
    "    z = {24, 36, 54, 87, 77}\n",
    "    y.update(z)\n",
    "    print(y)\n",
    "update()"
   ]
  }
 ],
 "metadata": {
  "kernelspec": {
   "display_name": "Python 3 (ipykernel)",
   "language": "python",
   "name": "python3"
  },
  "language_info": {
   "codemirror_mode": {
    "name": "ipython",
    "version": 3
   },
   "file_extension": ".py",
   "mimetype": "text/x-python",
   "name": "python",
   "nbconvert_exporter": "python",
   "pygments_lexer": "ipython3",
   "version": "3.9.12"
  }
 },
 "nbformat": 4,
 "nbformat_minor": 5
}
