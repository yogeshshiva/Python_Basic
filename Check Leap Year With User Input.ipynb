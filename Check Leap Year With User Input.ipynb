{
 "cells": [
  {
   "cell_type": "code",
   "execution_count": null,
   "id": "b2f4f245",
   "metadata": {},
   "outputs": [],
   "source": [
    "leap = int(input(\"Enter Leap Year.\"))\n",
    "\n",
    "if (leap % 4 == 0):\n",
    "    print(\"This is Leap Year.\")\n",
    "elif (leap % 4 != 0):\n",
    "    print(\"This is not Leap Year.\")\n",
    "else:\n",
    "    print(\"Invalid In\")"
   ]
  }
 ],
 "metadata": {
  "kernelspec": {
   "display_name": "Python 3 (ipykernel)",
   "language": "python",
   "name": "python3"
  },
  "language_info": {
   "codemirror_mode": {
    "name": "ipython",
    "version": 3
   },
   "file_extension": ".py",
   "mimetype": "text/x-python",
   "name": "python",
   "nbconvert_exporter": "python",
   "pygments_lexer": "ipython3",
   "version": "3.9.12"
  }
 },
 "nbformat": 4,
 "nbformat_minor": 5
}
