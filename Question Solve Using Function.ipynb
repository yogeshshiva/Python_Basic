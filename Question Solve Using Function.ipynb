{
 "cells": [
  {
   "cell_type": "markdown",
   "id": "03e6168c",
   "metadata": {},
   "source": [
    "# Question with Answer using function"
   ]
  },
  {
   "cell_type": "markdown",
   "id": "6f774d70",
   "metadata": {},
   "source": [
    "Question )  Write a program to divide two numbers by using function ?"
   ]
  },
  {
   "cell_type": "code",
   "execution_count": 9,
   "id": "bb365244",
   "metadata": {},
   "outputs": [
    {
     "data": {
      "text/plain": [
       "5.0"
      ]
     },
     "execution_count": 9,
     "metadata": {},
     "output_type": "execute_result"
    }
   ],
   "source": [
    "def divide():\n",
    "    a = 20\n",
    "    b = 4\n",
    "    c = a/b\n",
    "    return c\n",
    "divide()"
   ]
  },
  {
   "cell_type": "markdown",
   "id": "31baf371",
   "metadata": {},
   "source": [
    "Question )  Write a program to add two no using user input by using function ?"
   ]
  },
  {
   "cell_type": "code",
   "execution_count": 11,
   "id": "b682a6ec",
   "metadata": {},
   "outputs": [
    {
     "name": "stdout",
     "output_type": "stream",
     "text": [
      "28\n"
     ]
    }
   ],
   "source": [
    "def add():\n",
    "    a = 12\n",
    "    b = 16\n",
    "    c = a + b\n",
    "    print(c)\n",
    "add()"
   ]
  },
  {
   "cell_type": "markdown",
   "id": "71faf906",
   "metadata": {},
   "source": [
    "Question )  Write to find the average marks of a student in 3 subject by using function ?"
   ]
  },
  {
   "cell_type": "code",
   "execution_count": 13,
   "id": "056ddaad",
   "metadata": {},
   "outputs": [
    {
     "name": "stdout",
     "output_type": "stream",
     "text": [
      "Enter your English Marks.25\n",
      "Enter your Maths Marks.20\n",
      "Enter your Science Marks.40\n"
     ]
    },
    {
     "data": {
      "text/plain": [
       "28.333333333333332"
      ]
     },
     "execution_count": 13,
     "metadata": {},
     "output_type": "execute_result"
    }
   ],
   "source": [
    "def average():\n",
    "    sub_1 = int(input(\"Enter your English Marks.\"))\n",
    "    sub_2 = int(input(\"Enter your Maths Marks.\"))\n",
    "    sub_3 = int(input(\"Enter your Science Marks.\"))\n",
    "    avg = (sub_1 + sub_2 + sub_3)/3\n",
    "    return avg\n",
    "average()"
   ]
  },
  {
   "cell_type": "markdown",
   "id": "4214b287",
   "metadata": {},
   "source": [
    "Question )  Write a program to find the odd and even number by using function ?"
   ]
  },
  {
   "cell_type": "code",
   "execution_count": 20,
   "id": "f32c34fa",
   "metadata": {},
   "outputs": [
    {
     "name": "stdout",
     "output_type": "stream",
     "text": [
      "Enter your Number.67\n",
      "Odd Number.\n"
     ]
    }
   ],
   "source": [
    "def number():\n",
    "    num = int(input(\"Enter your Number.\"))\n",
    "    if num%2==0:\n",
    "        print(\"Even Number.\")\n",
    "    elif num%2!=0:\n",
    "        print(\"Odd Number.\")\n",
    "    else:\n",
    "        print(\"Invalid Input.\")\n",
    "number()"
   ]
  },
  {
   "cell_type": "markdown",
   "id": "d378dd96",
   "metadata": {},
   "source": [
    "Question )  Write a program to find a individual is a child or adult by using Function ?"
   ]
  },
  {
   "cell_type": "code",
   "execution_count": 19,
   "id": "bb7bae1d",
   "metadata": {},
   "outputs": [
    {
     "name": "stdout",
     "output_type": "stream",
     "text": [
      "Enter your Age.34\n",
      "You are Adult.\n"
     ]
    }
   ],
   "source": [
    "def individual():\n",
    "    age = int(input(\"Enter your Age.\"))\n",
    "    if age >= 18:\n",
    "        print(\"You are Adult.\")\n",
    "    elif age < 18:\n",
    "        print(\"Your are Child.\")\n",
    "    else:\n",
    "        print(\"Invalid Input.\")\n",
    "individual()"
   ]
  },
  {
   "cell_type": "markdown",
   "id": "0fff5075",
   "metadata": {},
   "source": [
    "Question )  Write a program to find if it is rainy outside or not  condition is if temp is 20 degree then it is rainy by using function ?"
   ]
  },
  {
   "cell_type": "code",
   "execution_count": 22,
   "id": "70703f4f",
   "metadata": {},
   "outputs": [
    {
     "name": "stdout",
     "output_type": "stream",
     "text": [
      "Enter Temperature.20\n",
      "It's rainy.\n"
     ]
    }
   ],
   "source": [
    "def temperature():\n",
    "    temp = int(input(\"Enter Temperature.\"))\n",
    "    if temp == 20:\n",
    "        print(\"It's rainy.\")\n",
    "    else:\n",
    "        print(\"Not rainy.\")\n",
    "temperature()"
   ]
  },
  {
   "cell_type": "markdown",
   "id": "47ff4330",
   "metadata": {},
   "source": [
    "Question )  Write to print holiday if the day is sunday otherwise print boring day by using function ?"
   ]
  },
  {
   "cell_type": "code",
   "execution_count": 29,
   "id": "c3f4c720",
   "metadata": {},
   "outputs": [
    {
     "name": "stdout",
     "output_type": "stream",
     "text": [
      "Enter today days.sunday\n",
      "Today is Holiday.\n"
     ]
    }
   ],
   "source": [
    "def days():\n",
    "    day = input(\"Enter today days.\")\n",
    "    if day == \"sunday\":\n",
    "        print(\"Today is Holiday.\")\n",
    "    elif day == \"monday\":\n",
    "        print(\"Boring Day.\")\n",
    "    elif day == \"tuesday\":\n",
    "        print(\"Boring Day.\")\n",
    "    elif day == \"wednesday\":\n",
    "        print(\"Boring Day.\")\n",
    "    elif day == \"thrusday\":\n",
    "        print(\"Boring Day.\")\n",
    "    elif day == \"friday\":\n",
    "        print(\"Boring Day.\")\n",
    "    elif day == \"saturday\":\n",
    "        print(\"Boring Day.\")\n",
    "    else:\n",
    "        print(\"Invalid Input.\")\n",
    "days()"
   ]
  },
  {
   "cell_type": "markdown",
   "id": "65b6c47b",
   "metadata": {},
   "source": [
    "Question )  A company decided to give bonus of 5% to employee if his/her year of service is more than 5 years.\n",
    "Ask user for their salary and year of service and print the net bonus amount and also try to print the net salary of employee \n",
    "after bonus and using by function ?"
   ]
  },
  {
   "cell_type": "code",
   "execution_count": 11,
   "id": "5cd04706",
   "metadata": {},
   "outputs": [
    {
     "name": "stdout",
     "output_type": "stream",
     "text": [
      "Enter your Salary.50000\n",
      "Enter year of service.7\n",
      "Congratulation, you get a bonus.\n",
      "your bonus amount is  2500.0\n",
      "your total salary after bonus is  52500.0\n"
     ]
    }
   ],
   "source": [
    "def company():\n",
    "    salary = int(input(\"Enter your Salary.\"))\n",
    "    year_of_service = int(input(\"Enter year of service.\"))\n",
    "    bonus = (salary * 5)/100\n",
    "    total_salary = salary + bonus\n",
    "    if year_of_service > 5:\n",
    "        print(\"Congratulation, you get a bonus.\")\n",
    "        print(\"your bonus amount is \",bonus)\n",
    "        print(\"your total salary after bonus is \",total_salary)\n",
    "    elif year_of_service <= 5 and year_of_service >= 0:\n",
    "        print(\"Sorry No bonus.\")\n",
    "    else:\n",
    "        print(\"Invalid Input\")\n",
    "company()"
   ]
  },
  {
   "cell_type": "markdown",
   "id": "f3c19889",
   "metadata": {},
   "source": [
    "Question )  Take values of length and breadth of a square from user and check if it is square or not by using function ?"
   ]
  },
  {
   "cell_type": "code",
   "execution_count": 15,
   "id": "e3435eee",
   "metadata": {},
   "outputs": [
    {
     "name": "stdout",
     "output_type": "stream",
     "text": [
      "Enter length of square.22\n",
      "Enter breadth of square.22\n",
      "This is a Square.\n"
     ]
    }
   ],
   "source": [
    "def values():\n",
    "    length = int(input(\"Enter length of square.\"))\n",
    "    breadth = int(input(\"Enter breadth of square.\"))\n",
    "    if length == breadth:\n",
    "        print(\"This is a Square.\")\n",
    "    elif length != breadth:\n",
    "        print(\"This is no Square.\")\n",
    "    else:\n",
    "        print(\"Invalid Input.\")\n",
    "values()"
   ]
  },
  {
   "cell_type": "markdown",
   "id": "b0fdca58",
   "metadata": {},
   "source": [
    "Question )  Take three values from user and print greatest among them by using function ?"
   ]
  },
  {
   "cell_type": "code",
   "execution_count": 17,
   "id": "5c7982fc",
   "metadata": {},
   "outputs": [
    {
     "name": "stdout",
     "output_type": "stream",
     "text": [
      "Enter your First Number.94\n",
      "Enter your Second Number.98\n",
      "Enter your Third Number.62\n",
      "98 is greater.\n"
     ]
    }
   ],
   "source": [
    "def function():\n",
    "    num_1 = int(input(\"Enter your First Number.\"))\n",
    "    num_2 = int(input(\"Enter your Second Number.\"))\n",
    "    num_3 = int(input(\"Enter your Third Number.\"))\n",
    "    if num_1>num_2 and num_1>num3:\n",
    "        print(num_1,\"is greater.\")\n",
    "    elif num_2>num_1 and num_2>num_3:\n",
    "        print(num_2,\"is greater.\")\n",
    "    elif num_3>num_1 and num_3>num_2:\n",
    "        print(num_3,\"is greater.\")\n",
    "    else:\n",
    "        print(\"Invalid Input.\")\n",
    "function()"
   ]
  },
  {
   "cell_type": "markdown",
   "id": "74036a9c",
   "metadata": {},
   "source": [
    "Question )  A shop will give discount of 10% if the cost of purchased quantity is more than 10. Ask user for quantity. Suppose,\n",
    "one unit will cost 100. Judge and print total cost for user by using function ?"
   ]
  },
  {
   "cell_type": "code",
   "execution_count": 19,
   "id": "074304dd",
   "metadata": {},
   "outputs": [
    {
     "name": "stdout",
     "output_type": "stream",
     "text": [
      "Enter how many Quantity you have purchased.14\n",
      "Enter your amount above rupees 100.10000\n",
      "Congratulation, you have a discount\n",
      "your discount amount is  1000.0\n",
      "your total amount after discount is  9000.0\n"
     ]
    }
   ],
   "source": [
    "def shop():\n",
    "    quantity = int(input(\"Enter how many Quantity you have purchased.\"))\n",
    "    amount = int(input(\"Enter your amount above rupees 100.\"))\n",
    "    discount = (amount * 10)/100\n",
    "    total_amount = amount - discount\n",
    "    if quantity >= 10:\n",
    "        print(\"Congratulation, you have a discount\")\n",
    "        print(\"your discount amount is \",discount)\n",
    "        print(\"your total amount after discount is \",total_amount)\n",
    "    elif quantity < 10:\n",
    "        print(\"Sorry no discount.\")\n",
    "    else:\n",
    "        print(\"Invalid Input.\")\n",
    "shop()"
   ]
  },
  {
   "cell_type": "markdown",
   "id": "e53a5682",
   "metadata": {},
   "source": [
    "Question )  A school has following rules for grading system :                                  \n",
    "    1) below 25  F grade                                             \n",
    "    2) 25 to 45  E grade                                                        \n",
    "    3) 45 to 50  D grade                                                    \n",
    "    4) 50 to 60  C grade                                                  \n",
    "    5) 60 to 80  B grade                                                       \n",
    "    6) above 80  A grade                                                \n",
    "Ask user to enter marks and print the corresponding grade by using function ?"
   ]
  },
  {
   "cell_type": "code",
   "execution_count": 26,
   "id": "77acfecb",
   "metadata": {},
   "outputs": [
    {
     "name": "stdout",
     "output_type": "stream",
     "text": [
      "Enter your marks.63\n",
      "Your Grade is B.\n"
     ]
    }
   ],
   "source": [
    "def school():\n",
    "    marks = int(input(\"Enter your marks.\"))\n",
    "    \n",
    "    if marks >= 80 and marks < 100:\n",
    "        print(\"Your Grade is A.\")\n",
    "    elif marks >= 60 and marks < 80:\n",
    "        print(\"Your Grade is B.\")\n",
    "    elif marks >= 50 and marks < 60:\n",
    "        print(\"Your Grade is C.\")\n",
    "    elif marks >= 45 and marks < 50:\n",
    "        print(\"Your Grade is D.\")\n",
    "    elif marks >= 25 and marks < 45:\n",
    "        print(\"Your Grade is E.\")\n",
    "    elif marks >= 0 and marks < 25:\n",
    "        print(\"Your Grade is F.\")\n",
    "    else:\n",
    "        print(\"Invalid Input.\")\n",
    "school()"
   ]
  },
  {
   "cell_type": "markdown",
   "id": "02260ea4",
   "metadata": {},
   "source": [
    "Question )  Take input of age of 3 people by using and determine greatest among them by using function ?"
   ]
  },
  {
   "cell_type": "code",
   "execution_count": 29,
   "id": "ea261883",
   "metadata": {},
   "outputs": [
    {
     "name": "stdout",
     "output_type": "stream",
     "text": [
      "Enter your First age.45\n",
      "Enter your Second age.78\n",
      "Enter your Third age.62\n",
      "78 is greater.\n"
     ]
    }
   ],
   "source": [
    "def people():\n",
    "    age_1 = int(input(\"Enter your First age.\"))\n",
    "    age_2 = int(input(\"Enter your Second age.\"))\n",
    "    age_3 = int(input(\"Enter your Third age.\"))\n",
    "    if age_1>age_2 and age_1>age_3:\n",
    "        print(age_1,\"is greater.\")\n",
    "    elif age_2>age_1 and age_2>age_3:\n",
    "        print(age_2,\"is greater.\")\n",
    "    elif age_3>age_1 and age_3>age_2:\n",
    "        print(age_3,\"is greater.\")\n",
    "people()"
   ]
  },
  {
   "cell_type": "markdown",
   "id": "561fe60c",
   "metadata": {},
   "source": [
    "Question )  A Student will not be allowed to sit in exam if his/her attendence is less than 75% take following input \n",
    "from user .                                                 \n",
    "Number of classes held                                                   \n",
    "Number of classes attended and print                                                        \n",
    "percentage of class attend                                                                                      \n",
    "Is student is allowed to sit in exam or not by using function ?"
   ]
  },
  {
   "cell_type": "code",
   "execution_count": 7,
   "id": "4d9147bf",
   "metadata": {},
   "outputs": [
    {
     "name": "stdout",
     "output_type": "stream",
     "text": [
      "Enter no of classes held.90\n",
      "Enter no of classes attend.86\n",
      "You are Sit in Exam.\n",
      "your total class attend percentage is  77.4\n"
     ]
    }
   ],
   "source": [
    "def student():\n",
    "    number_of_classes_held = int(input(\"Enter no of classes held.\"))\n",
    "    number_of_classes_attend = int(input(\"Enter no of classes attend.\"))\n",
    "    percentage_of_class_attend = (number_of_classes_held * number_of_classes_attend)/100\n",
    "    if percentage_of_class_attend >= 75:\n",
    "        print(\"You are Sit in Exam.\")\n",
    "        print(\"your total class attend percentage is \",percentage_of_class_attend)\n",
    "    elif percentage_of_class_attend < 75:\n",
    "        print(\"You are not sit in Exam because your percentage is less.\")\n",
    "        print(\"your total class attend percentage is \",percentage_of_class_attend)\n",
    "    else:\n",
    "        print(\"Invalid Input.\")\n",
    "student()"
   ]
  },
  {
   "cell_type": "markdown",
   "id": "f54b30d6",
   "metadata": {},
   "source": [
    "Question )  Modify the above question to allow student to sit if he/she has medical cause ask user if he/she has medical cause \n",
    "or not (\"Y\" or \"N\") and print accordingly by using function ?"
   ]
  },
  {
   "cell_type": "code",
   "execution_count": 10,
   "id": "68f68e2d",
   "metadata": {},
   "outputs": [
    {
     "name": "stdout",
     "output_type": "stream",
     "text": [
      "Enter no of classes held.80\n",
      "Enter no of classes attend.23\n",
      "Enter Y if you have medical cause otherwise enter N.Y\n",
      "You bring your medical certificate and sit on the exam.\n"
     ]
    }
   ],
   "source": [
    "def modify():\n",
    "    number_of_classes_held = int(input(\"Enter no of classes held.\"))\n",
    "    number_of_classes_attend = int(input(\"Enter no of classes attend.\"))\n",
    "    percentage_of_class_attend = (number_of_classes_held * number_of_classes_attend)/100\n",
    "    medical = input(\"Enter Y if you have medical cause otherwise enter N.\")\n",
    "    if percentage_of_class_attend >= 75:\n",
    "        print(\"You are Sit in Exam.\")\n",
    "        print(\"your total class attend percentage is \",percentage_of_class_attend)\n",
    "    elif medical == \"Y\":\n",
    "        print(\"You bring your medical certificate and sit on the exam.\")\n",
    "    elif percentage_of_class_attend < 75:\n",
    "        print(\"You are not sit in Exam because your percentage is less.\")\n",
    "        print(\"your total class attend percentage is \",percentage_of_class_attend)\n",
    "    else:\n",
    "        print(\"Invalid Input.\")\n",
    "modify()"
   ]
  },
  {
   "cell_type": "markdown",
   "id": "986ca55d",
   "metadata": {},
   "source": [
    "Question )  Modify the above code and you are allowed to sit in the exam. if you will pay the fine of 2000 with 5% low attendence\n",
    "and above 5% you have to pay 10,000 as fine to sit in the exam by using function. ?"
   ]
  },
  {
   "cell_type": "code",
   "execution_count": 18,
   "id": "3a019c8b",
   "metadata": {},
   "outputs": [
    {
     "name": "stdout",
     "output_type": "stream",
     "text": [
      "Enter no of classes held.95\n",
      "Enter no of classes attend.54\n",
      "Firstly you will pay 10000 rupees fine after that you sit in Exam.\n",
      "your total class attend percentage is  51.3\n"
     ]
    }
   ],
   "source": [
    "def fine():\n",
    "    number_of_classes_held = int(input(\"Enter no of classes held.\"))\n",
    "    number_of_classes_attend = int(input(\"Enter no of classes attend.\"))\n",
    "    percentage_of_class_attend = (number_of_classes_held * number_of_classes_attend)/100\n",
    "    if percentage_of_class_attend >= 75:\n",
    "        print(\"You are Sit in Exam.\")\n",
    "        print(\"your total class attend percentage is \",percentage_of_class_attend)\n",
    "    elif percentage_of_class_attend < 75 and percentage_of_class_attend >= 70:\n",
    "        print(\"Firstly you will pay 2000 rupees fine after that you sit in Exam.\")\n",
    "        print(\"your total class attend percentage is \",percentage_of_class_attend)\n",
    "    elif percentage_of_class_attend < 70:\n",
    "        print(\"Firstly you will pay 10000 rupees fine after that you sit in Exam.\")\n",
    "        print(\"your total class attend percentage is \",percentage_of_class_attend)\n",
    "    else:\n",
    "        print(\"Invalid Input.\")\n",
    "fine()"
   ]
  }
 ],
 "metadata": {
  "kernelspec": {
   "display_name": "Python 3 (ipykernel)",
   "language": "python",
   "name": "python3"
  },
  "language_info": {
   "codemirror_mode": {
    "name": "ipython",
    "version": 3
   },
   "file_extension": ".py",
   "mimetype": "text/x-python",
   "name": "python",
   "nbconvert_exporter": "python",
   "pygments_lexer": "ipython3",
   "version": "3.9.12"
  }
 },
 "nbformat": 4,
 "nbformat_minor": 5
}
