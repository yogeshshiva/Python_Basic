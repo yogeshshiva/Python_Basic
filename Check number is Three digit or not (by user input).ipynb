{
 "cells": [
  {
   "cell_type": "code",
   "execution_count": 5,
   "id": "92affcb0",
   "metadata": {},
   "outputs": [
    {
     "name": "stdout",
     "output_type": "stream",
     "text": [
      "Enter three digit number.\n",
      "879\n",
      "This is three digit number.\n"
     ]
    }
   ],
   "source": [
    "num = int(input(\"Enter three digit number.\\n\"))\n",
    "\n",
    "if (num >= 100) and (num <= 999):\n",
    "    print(\"This is three digit number.\")\n",
    "else:\n",
    "    print(\"Invalid Input.\")"
   ]
  }
 ],
 "metadata": {
  "kernelspec": {
   "display_name": "Python 3 (ipykernel)",
   "language": "python",
   "name": "python3"
  },
  "language_info": {
   "codemirror_mode": {
    "name": "ipython",
    "version": 3
   },
   "file_extension": ".py",
   "mimetype": "text/x-python",
   "name": "python",
   "nbconvert_exporter": "python",
   "pygments_lexer": "ipython3",
   "version": "3.9.12"
  }
 },
 "nbformat": 4,
 "nbformat_minor": 5
}
