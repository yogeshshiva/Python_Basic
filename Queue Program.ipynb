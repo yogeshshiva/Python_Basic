{
 "cells": [
  {
   "cell_type": "markdown",
   "id": "e8e7b405",
   "metadata": {},
   "source": [
    "# Queue Program"
   ]
  },
  {
   "cell_type": "code",
   "execution_count": null,
   "id": "54b33582",
   "metadata": {},
   "outputs": [],
   "source": [
    "l = []\n",
    "while True:\n",
    "    c = int(input('''\n",
    "    1) push elements\n",
    "    2) pop first element\n",
    "    3) front element\n",
    "    4) last element\n",
    "    5) display Queue\n",
    "    6) exit\n",
    "    '''))\n",
    "    \n",
    "    if c == 1:\n",
    "        n = input(\"Enter the Value.\\n\")\n",
    "        l.append(n)\n",
    "        print(l)\n",
    "    elif c == 2:\n",
    "        if len(l) == 0:\n",
    "            print(\"Empty Queue.\")\n",
    "        else:\n",
    "            del l[0]\n",
    "            print(l)\n",
    "    elif c == 3:\n",
    "        if len(l) == 0:\n",
    "            print(\"Empty Queue.\")\n",
    "        else:\n",
    "            print(\"First Queue Value :-\",l[0])\n",
    "    elif c == 4:\n",
    "        if len(l) == 0:\n",
    "            print(\"Empty Queue.\")\n",
    "        else:\n",
    "            print(\"Last Queue Value :-\",l[-1])\n",
    "    elif c == 5:\n",
    "        print(\"Display Queue :-\",l)\n",
    "    elif c == 6:\n",
    "        break;\n",
    "    else:\n",
    "        print(\"Invalid Operation.\")"
   ]
  }
 ],
 "metadata": {
  "kernelspec": {
   "display_name": "Python 3 (ipykernel)",
   "language": "python",
   "name": "python3"
  },
  "language_info": {
   "codemirror_mode": {
    "name": "ipython",
    "version": 3
   },
   "file_extension": ".py",
   "mimetype": "text/x-python",
   "name": "python",
   "nbconvert_exporter": "python",
   "pygments_lexer": "ipython3",
   "version": "3.9.12"
  }
 },
 "nbformat": 4,
 "nbformat_minor": 5
}
