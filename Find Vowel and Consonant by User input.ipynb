{
 "cells": [
  {
   "cell_type": "code",
   "execution_count": 12,
   "id": "0cf7ef50",
   "metadata": {},
   "outputs": [
    {
     "name": "stdout",
     "output_type": "stream",
     "text": [
      "Enter your alphabat.t\n",
      "This is Consonant.\n"
     ]
    }
   ],
   "source": [
    "alphabat = input(\"Enter your alphabat.\")\n",
    "\n",
    "if (alphabat == \"a\"):\n",
    "    print(\"This is a vowel.\")\n",
    "elif (alphabat == \"e\"):\n",
    "    print(\"This is a vowel.\")\n",
    "elif (alphabat == \"i\"):\n",
    "    print(\"This is a vowel.\")\n",
    "elif (alphabat == \"o\"):\n",
    "    print(\"This is a vowel.\")\n",
    "elif (alphabat == \"u\"):\n",
    "    print(\"This is a vowel.\")\n",
    "else:\n",
    "    print(\"This is Consonant.\")"
   ]
  }
 ],
 "metadata": {
  "kernelspec": {
   "display_name": "Python 3 (ipykernel)",
   "language": "python",
   "name": "python3"
  },
  "language_info": {
   "codemirror_mode": {
    "name": "ipython",
    "version": 3
   },
   "file_extension": ".py",
   "mimetype": "text/x-python",
   "name": "python",
   "nbconvert_exporter": "python",
   "pygments_lexer": "ipython3",
   "version": "3.9.12"
  }
 },
 "nbformat": 4,
 "nbformat_minor": 5
}
