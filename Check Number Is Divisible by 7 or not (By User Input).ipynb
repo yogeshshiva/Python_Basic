{
 "cells": [
  {
   "cell_type": "code",
   "execution_count": 3,
   "id": "07e42efd",
   "metadata": {},
   "outputs": [
    {
     "name": "stdout",
     "output_type": "stream",
     "text": [
      "Enter your number which can divisible by 7.\n",
      "784\n",
      "This Number is divisible by 7.\n"
     ]
    }
   ],
   "source": [
    "num = int(input(\"Enter your number which can divisible by 7.\\n\"))\n",
    "\n",
    "if (num %7 == 0):\n",
    "    print(\"This Number is divisible by 7.\")\n",
    "elif (num %7 != 0):\n",
    "    print(\"This Number is not divisible by 7.\")\n",
    "else:\n",
    "    print(\"Invalid Input.\")"
   ]
  }
 ],
 "metadata": {
  "kernelspec": {
   "display_name": "Python 3 (ipykernel)",
   "language": "python",
   "name": "python3"
  },
  "language_info": {
   "codemirror_mode": {
    "name": "ipython",
    "version": 3
   },
   "file_extension": ".py",
   "mimetype": "text/x-python",
   "name": "python",
   "nbconvert_exporter": "python",
   "pygments_lexer": "ipython3",
   "version": "3.9.12"
  }
 },
 "nbformat": 4,
 "nbformat_minor": 5
}
