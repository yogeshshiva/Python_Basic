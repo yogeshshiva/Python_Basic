{
 "cells": [
  {
   "cell_type": "code",
   "execution_count": null,
   "id": "ea8bdf65",
   "metadata": {},
   "outputs": [],
   "source": [
    "# Question 1) Write a program to add two number ? "
   ]
  },
  {
   "cell_type": "code",
   "execution_count": 5,
   "id": "085eda19",
   "metadata": {},
   "outputs": [
    {
     "name": "stdout",
     "output_type": "stream",
     "text": [
      "enter your first number.\n",
      "45\n",
      "enter your second number.\n",
      "15\n",
      "The addition to your two number\n",
      " 45 + 15 is 60\n"
     ]
    }
   ],
   "source": [
    "# Answer 1)\n",
    "\n",
    "x = int(input(\"enter your first number.\\n\"))       # this is type casting.\n",
    "y = int(input(\"enter your second number.\\n\"))\n",
    "\n",
    "z = x + y\n",
    "print(\"The addition to your two number\\n\",x,\"+\",y,\"is\",z)"
   ]
  },
  {
   "cell_type": "code",
   "execution_count": null,
   "id": "b47ac6f2",
   "metadata": {},
   "outputs": [],
   "source": [
    "# Question 2)  Write to find the average of a student in marks in three subject ?"
   ]
  },
  {
   "cell_type": "code",
   "execution_count": 4,
   "id": "c8a9cf4a",
   "metadata": {},
   "outputs": [
    {
     "name": "stdout",
     "output_type": "stream",
     "text": [
      "enter your marks subject1.\n",
      "45\n",
      "enter your marks subject2.\n",
      "20\n",
      "enter your marks subject3.\n",
      "35\n",
      "The average is\n",
      " 33.333333333333336\n"
     ]
    }
   ],
   "source": [
    "# Answer 2)\n",
    "\n",
    "subject1 = int(input(\"enter your marks subject1.\\n\"))                                                     \n",
    "subject2 = int(input(\"enter your marks subject2.\\n\"))\n",
    "subject3 = int(input(\"enter your marks subject3.\\n\"))\n",
    "\n",
    "avg = (subject1 + subject2 + subject3)/3\n",
    "\n",
    "print(\"The average is\\n\",avg)"
   ]
  },
  {
   "cell_type": "markdown",
   "id": "f3902b70",
   "metadata": {},
   "source": [
    "# # condition!!"
   ]
  },
  {
   "cell_type": "code",
   "execution_count": null,
   "id": "3708e8f7",
   "metadata": {},
   "outputs": [],
   "source": [
    "Question 3) Write to find he/she is voter or not. ?"
   ]
  },
  {
   "cell_type": "code",
   "execution_count": 8,
   "id": "d7d9123f",
   "metadata": {},
   "outputs": [
    {
     "name": "stdout",
     "output_type": "stream",
     "text": [
      "Enter your age.\n",
      "23\n",
      "vote krne chlo bhai!!\n"
     ]
    }
   ],
   "source": [
    "# Answer 3)\n",
    "\n",
    "age = int(input(\"Enter your age.\\n\"))\n",
    "\n",
    "if age >= 18:\n",
    "    print(\"vote krne chlo bhai!!\")\n",
    "else:\n",
    "    print(\"no vote\")"
   ]
  },
  {
   "cell_type": "code",
   "execution_count": null,
   "id": "8193b613",
   "metadata": {},
   "outputs": [],
   "source": [
    "Question 4) Write to find the odd and even number. ?"
   ]
  },
  {
   "cell_type": "code",
   "execution_count": 14,
   "id": "4b832c2a",
   "metadata": {},
   "outputs": [
    {
     "name": "stdout",
     "output_type": "stream",
     "text": [
      "enter your number.\n",
      "43\n",
      "this is odd number.\n"
     ]
    }
   ],
   "source": [
    "# Answer 4)\n",
    "\n",
    "num = int(input(\"enter your number.\\n\"))\n",
    "\n",
    "if (num%2 == 0):\n",
    "    print(\"this is even number.\")\n",
    "else:\n",
    "    print(\"this is odd number.\")"
   ]
  },
  {
   "cell_type": "code",
   "execution_count": null,
   "id": "db076a3b",
   "metadata": {},
   "outputs": [],
   "source": [
    "Question 5) Write to find a individual is a child or adult. ?"
   ]
  },
  {
   "cell_type": "code",
   "execution_count": 15,
   "id": "685c91c2",
   "metadata": {},
   "outputs": [
    {
     "name": "stdout",
     "output_type": "stream",
     "text": [
      "enter your age.\n",
      "19\n",
      "you are adult.\n"
     ]
    }
   ],
   "source": [
    "# Answer 5)\n",
    "\n",
    "age = int(input(\"enter your age.\\n\"))\n",
    "\n",
    "if (age>=18):\n",
    "    print(\"you are adult.\")\n",
    "else:\n",
    "    print(\"you are child.\")"
   ]
  },
  {
   "cell_type": "code",
   "execution_count": null,
   "id": "8e813bcd",
   "metadata": {},
   "outputs": [],
   "source": [
    "Question 6) Write to find if it is rainy outside or not. \n",
    "            Condition : If temperature is 20 degree then it is rainy."
   ]
  },
  {
   "cell_type": "code",
   "execution_count": 13,
   "id": "ca9e2051",
   "metadata": {},
   "outputs": [
    {
     "name": "stdout",
     "output_type": "stream",
     "text": [
      "enter temperature.\n",
      "20\n",
      "it is rainy.\n"
     ]
    }
   ],
   "source": [
    "# Answer 6)\n",
    "\n",
    "tem = int(input(\"enter temperature.\\n\"))\n",
    "\n",
    "if (tem==20):\n",
    "    print(\"it is rainy.\")\n",
    "else:\n",
    "    print(\"Not rainy.\")"
   ]
  },
  {
   "cell_type": "code",
   "execution_count": null,
   "id": "4e494eef",
   "metadata": {},
   "outputs": [],
   "source": [
    "Question 7) Write to print holiday if the day is sunday otherwise print boring day. ?"
   ]
  },
  {
   "cell_type": "code",
   "execution_count": 16,
   "id": "daa1d81e",
   "metadata": {},
   "outputs": [
    {
     "name": "stdout",
     "output_type": "stream",
     "text": [
      "enter your days.\n",
      "wednesday\n",
      "today is boring day.\n"
     ]
    }
   ],
   "source": [
    "# Answer 7)\n",
    "\n",
    "weak = input(\"enter your days.\\n\")\n",
    "if (weak == \"sunday\"):\n",
    "    print(\"today's is holidays.\")\n",
    "else:\n",
    "    print(\"today is boring day.\")"
   ]
  },
  {
   "cell_type": "code",
   "execution_count": 1,
   "id": "b5c90f98",
   "metadata": {},
   "outputs": [
    {
     "name": "stdout",
     "output_type": "stream",
     "text": [
      "8.0\n"
     ]
    }
   ],
   "source": [
    "a = 8            #   In this method any integer value in convert into floating value.\n",
    "b = float(a)\n",
    "print(b)"
   ]
  },
  {
   "cell_type": "code",
   "execution_count": 3,
   "id": "062f36d1",
   "metadata": {},
   "outputs": [
    {
     "name": "stdout",
     "output_type": "stream",
     "text": [
      "45\n"
     ]
    }
   ],
   "source": [
    "a = 45.44        #  In this method any floating value is convert into integer value.\n",
    "b = int(a)\n",
    "print(b)"
   ]
  }
 ],
 "metadata": {
  "kernelspec": {
   "display_name": "Python 3 (ipykernel)",
   "language": "python",
   "name": "python3"
  },
  "language_info": {
   "codemirror_mode": {
    "name": "ipython",
    "version": 3
   },
   "file_extension": ".py",
   "mimetype": "text/x-python",
   "name": "python",
   "nbconvert_exporter": "python",
   "pygments_lexer": "ipython3",
   "version": "3.9.12"
  }
 },
 "nbformat": 4,
 "nbformat_minor": 5
}
