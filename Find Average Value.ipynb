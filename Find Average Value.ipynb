{
 "cells": [
  {
   "cell_type": "code",
   "execution_count": 2,
   "id": "0f6bd59b",
   "metadata": {},
   "outputs": [
    {
     "name": "stdout",
     "output_type": "stream",
     "text": [
      "Enter your First Number.\n",
      "25\n",
      "Enter your Second Number.\n",
      "65\n",
      "your two number 25 and 65 average is\n",
      " 45.0\n"
     ]
    }
   ],
   "source": [
    "num1 = int(input(\"Enter your First Number.\\n\"))\n",
    "num2 = int(input(\"Enter your Second Number.\\n\"))\n",
    "\n",
    "avg = (num1+num2)/2\n",
    "print(\"your two number\",num1,\"and\",num2,\"average is\\n\",avg)"
   ]
  }
 ],
 "metadata": {
  "kernelspec": {
   "display_name": "Python 3 (ipykernel)",
   "language": "python",
   "name": "python3"
  },
  "language_info": {
   "codemirror_mode": {
    "name": "ipython",
    "version": 3
   },
   "file_extension": ".py",
   "mimetype": "text/x-python",
   "name": "python",
   "nbconvert_exporter": "python",
   "pygments_lexer": "ipython3",
   "version": "3.9.12"
  }
 },
 "nbformat": 4,
 "nbformat_minor": 5
}
