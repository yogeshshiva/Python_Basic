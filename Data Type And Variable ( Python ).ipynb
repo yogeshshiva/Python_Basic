{
 "cells": [
  {
   "cell_type": "code",
   "execution_count": null,
   "id": "88c345a5",
   "metadata": {},
   "outputs": [],
   "source": [
    "# Date Type:  Integer\n",
    "#             String\n",
    "#             Float\n",
    "#             Boolean\n",
    "#             Complex"
   ]
  },
  {
   "cell_type": "code",
   "execution_count": 1,
   "id": "b174dd74",
   "metadata": {},
   "outputs": [
    {
     "name": "stdout",
     "output_type": "stream",
     "text": [
      "<class 'int'>\n"
     ]
    }
   ],
   "source": [
    "# Integer = + infinity to -infinity\n",
    "a = 5\n",
    "print(type(a))"
   ]
  },
  {
   "cell_type": "code",
   "execution_count": 2,
   "id": "b2fa6179",
   "metadata": {},
   "outputs": [
    {
     "name": "stdout",
     "output_type": "stream",
     "text": [
      "<class 'float'>\n",
      "<class 'float'>\n"
     ]
    }
   ],
   "source": [
    "# Float = Decimal Number\n",
    "#     -infinity to +infinity\n",
    "b = -141.55\n",
    "c = 52.55\n",
    "print(type(b))\n",
    "print(type(c))"
   ]
  },
  {
   "cell_type": "code",
   "execution_count": 3,
   "id": "a9b4739f",
   "metadata": {},
   "outputs": [
    {
     "name": "stdout",
     "output_type": "stream",
     "text": [
      "yogesh@123Sharma.com\n",
      "<class 'str'>\n"
     ]
    }
   ],
   "source": [
    "# String = Sequence of Character, numbers, Special Character.\n",
    "d=\"yogesh@123Sharma.com\"\n",
    "print(d)\n",
    "print(type(d))"
   ]
  },
  {
   "cell_type": "code",
   "execution_count": 4,
   "id": "5bc63821",
   "metadata": {},
   "outputs": [
    {
     "name": "stdout",
     "output_type": "stream",
     "text": [
      "Yogesh\n",
      "True\n",
      "<class 'bool'>\n",
      "true\n",
      "<class 'str'>\n"
     ]
    }
   ],
   "source": [
    "# Boolean = True/False\n",
    "e = 'Yogesh'\n",
    "print(e)\n",
    "e = True             # Because True is already definded in Python.\n",
    "print(e)\n",
    "print(type(e))\n",
    "f = 'true'\n",
    "print(f)\n",
    "print(type(f))"
   ]
  },
  {
   "cell_type": "code",
   "execution_count": 6,
   "id": "95ca8411",
   "metadata": {},
   "outputs": [],
   "source": [
    "                                # Variable\n",
    "# Question: 1) Write to add two numbers.\n",
    "#             2) Write to add swap two numbers.   #  Here,  swap mean exchange both numbers.\n",
    "# here, condition is allowed: 1) Use 3rd Variable.    2) Without using 3rd Variable.\n"
   ]
  },
  {
   "cell_type": "code",
   "execution_count": 7,
   "id": "708dc113",
   "metadata": {},
   "outputs": [
    {
     "name": "stdout",
     "output_type": "stream",
     "text": [
      "8\n",
      "8\n",
      "Before swapping 9 3\n",
      "After swapping 3 9\n"
     ]
    }
   ],
   "source": [
    "# Ans 1) \n",
    "\n",
    "a =  5\n",
    "b = 3\n",
    "c = a+b          #  use third variable.\n",
    "print(a+b)     # without using third variable.\n",
    "print(c)\n",
    "\n",
    "# Ans 2)\n",
    "\n",
    "A = 9\n",
    "B = 3\n",
    "print(\"Before swapping\",A,B)\n",
    "C = A\n",
    "A = B\n",
    "B = C\n",
    "print(\"After swapping\",A,B)\n"
   ]
  },
  {
   "cell_type": "code",
   "execution_count": 8,
   "id": "a0e272e2",
   "metadata": {},
   "outputs": [
    {
     "name": "stdout",
     "output_type": "stream",
     "text": [
      "7\n",
      "5\n"
     ]
    }
   ],
   "source": [
    "d = 5\n",
    "e = 7\n",
    "# d,e = e,d       #  without using third variable.\n",
    "# print(d,e)\n",
    "f = d\n",
    "d = e\n",
    "e = f\n",
    "print(d)\n",
    "print(e)"
   ]
  },
  {
   "cell_type": "code",
   "execution_count": 9,
   "id": "0f376af9",
   "metadata": {},
   "outputs": [
    {
     "name": "stdout",
     "output_type": "stream",
     "text": [
      "13\n",
      "3\n",
      "40\n",
      "1.6\n",
      "3\n",
      "1\n"
     ]
    }
   ],
   "source": [
    "#  - ,  * , / , % , reminder , Mod Operator.\n",
    "g = 5\n",
    "h = 8\n",
    "i = g+h\n",
    "j = h-g\n",
    "k = g*h\n",
    "print(i)\n",
    "print(j)\n",
    "print(k)\n",
    "L = h/g\n",
    "print(L)\n",
    "m = h%g     # reminder\n",
    "print(m)\n",
    "n = h//g    # Decimal ke baad ke no hata deta hai.\n",
    "print(n)"
   ]
  },
  {
   "cell_type": "code",
   "execution_count": 10,
   "id": "2ac03144",
   "metadata": {},
   "outputs": [
    {
     "name": "stdout",
     "output_type": "stream",
     "text": [
      "<class 'int'>\n"
     ]
    }
   ],
   "source": [
    "# integer -------> number (0-9) either +ve /-ve\n",
    "a = 55\n",
    "print(type(a))"
   ]
  },
  {
   "cell_type": "code",
   "execution_count": 11,
   "id": "3268557c",
   "metadata": {},
   "outputs": [
    {
     "name": "stdout",
     "output_type": "stream",
     "text": [
      "<class 'float'>\n"
     ]
    }
   ],
   "source": [
    "# floating -----------> work almost like integer + decimal points\n",
    "a = 55.55\n",
    "print(type(a))"
   ]
  },
  {
   "cell_type": "code",
   "execution_count": 12,
   "id": "92c7a7a5",
   "metadata": {},
   "outputs": [
    {
     "name": "stdout",
     "output_type": "stream",
     "text": [
      "<class 'str'>\n"
     ]
    }
   ],
   "source": [
    "# string  -----------> anything in quotes.\n",
    "a = \"yogesh\"\n",
    "print(type(a))"
   ]
  },
  {
   "cell_type": "code",
   "execution_count": 13,
   "id": "8a112201",
   "metadata": {},
   "outputs": [
    {
     "name": "stdout",
     "output_type": "stream",
     "text": [
      "<class 'bool'>\n"
     ]
    }
   ],
   "source": [
    "# boolean = True/False\n",
    "a = \"yogesh\"\n",
    "a = True\n",
    "print(type(a))"
   ]
  },
  {
   "cell_type": "code",
   "execution_count": 14,
   "id": "56639789",
   "metadata": {},
   "outputs": [
    {
     "name": "stdout",
     "output_type": "stream",
     "text": [
      "130\n"
     ]
    }
   ],
   "source": [
    "# write a program to add three no.\n",
    "# print ke andr operation perform kabhi nhi hota.\n",
    "a = 52\n",
    "b = 44\n",
    "c = 34\n",
    "d = (a+b+c)\n",
    "print(d)"
   ]
  },
  {
   "cell_type": "code",
   "execution_count": 15,
   "id": "2380c690",
   "metadata": {},
   "outputs": [
    {
     "name": "stdout",
     "output_type": "stream",
     "text": [
      "True\n"
     ]
    }
   ],
   "source": [
    "a = 8\n",
    "b = 8\n",
    "c = a == b\n",
    "print(c)\n"
   ]
  }
 ],
 "metadata": {
  "kernelspec": {
   "display_name": "Python 3 (ipykernel)",
   "language": "python",
   "name": "python3"
  },
  "language_info": {
   "codemirror_mode": {
    "name": "ipython",
    "version": 3
   },
   "file_extension": ".py",
   "mimetype": "text/x-python",
   "name": "python",
   "nbconvert_exporter": "python",
   "pygments_lexer": "ipython3",
   "version": "3.9.12"
  }
 },
 "nbformat": 4,
 "nbformat_minor": 5
}
