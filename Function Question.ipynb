{
 "cells": [
  {
   "cell_type": "markdown",
   "id": "ad03f02b",
   "metadata": {},
   "source": [
    "# Function Question"
   ]
  },
  {
   "cell_type": "code",
   "execution_count": null,
   "id": "21a15652",
   "metadata": {},
   "outputs": [],
   "source": [
    "Question 1) wap to find max no. from three numbers using function."
   ]
  },
  {
   "cell_type": "code",
   "execution_count": 9,
   "id": "869ca32d",
   "metadata": {},
   "outputs": [
    {
     "name": "stdout",
     "output_type": "stream",
     "text": [
      "Enter your first number.\n",
      "50\n",
      "Enter your second number.\n",
      "90\n",
      "Enter your third number.\n",
      "40\n",
      "Maximum Number is :- 90\n"
     ]
    }
   ],
   "source": [
    "# Answer 1)\n",
    "\n",
    "def max(a,b,c):\n",
    "    if (a>b) and (a>c):\n",
    "        print(\"Maximum Number is :-\",a)\n",
    "    elif (b>a) and (b>c):\n",
    "        print(\"Maximum Number is :-\",b)\n",
    "    else:\n",
    "        print(\"Maximum Number is :-\",c)\n",
    "a = int(input(\"Enter your first number.\\n\"))\n",
    "b = int(input(\"Enter your second number.\\n\"))\n",
    "c = int(input(\"Enter your third number.\\n\"))\n",
    "max(a,b,c)"
   ]
  },
  {
   "cell_type": "code",
   "execution_count": null,
   "id": "53003e12",
   "metadata": {},
   "outputs": [],
   "source": [
    "Question 2) wap to find min no. from three numbers using function."
   ]
  },
  {
   "cell_type": "code",
   "execution_count": 12,
   "id": "50f60bdb",
   "metadata": {},
   "outputs": [
    {
     "name": "stdout",
     "output_type": "stream",
     "text": [
      "Enter your first number.\n",
      "10\n",
      "Enter your second number.\n",
      "80\n",
      "Enter your third number.\n",
      "70\n",
      "Minimum Number is :- 10\n"
     ]
    }
   ],
   "source": [
    "# Answer 2)\n",
    "\n",
    "def min(a,b,c):\n",
    "    if (a<b) and (a<c):\n",
    "        print(\"Minimum Number is :-\",a)\n",
    "    elif (b<a) and (b<c):\n",
    "        print(\"Minimim Number is :-\",b)\n",
    "    else:\n",
    "        print(\"Minimum Number is :-\",c)\n",
    "a = int(input(\"Enter your first number.\\n\"))\n",
    "b = int(input(\"Enter your second number.\\n\"))\n",
    "c = int(input(\"Enter your third number.\\n\"))\n",
    "min(a,b,c)"
   ]
  },
  {
   "cell_type": "code",
   "execution_count": null,
   "id": "08843e6c",
   "metadata": {},
   "outputs": [],
   "source": [
    "Question 3) Wap to sum all number present in a list."
   ]
  },
  {
   "cell_type": "code",
   "execution_count": 109,
   "id": "6b368fa7",
   "metadata": {},
   "outputs": [
    {
     "name": "stdout",
     "output_type": "stream",
     "text": [
      "85\n"
     ]
    }
   ],
   "source": [
    "# Answer 3)\n",
    "\n",
    "def sum(list):\n",
    "    list = [1, 2, 3, 4, 5, 6]\n",
    "    a = 0\n",
    "    if i in list:\n",
    "        a = i + a\n",
    "print(a)\n",
    "sum(list)"
   ]
  },
  {
   "cell_type": "code",
   "execution_count": null,
   "id": "0f13f03e",
   "metadata": {},
   "outputs": [],
   "source": [
    "Question 4) wap to check a string is reversed or not?"
   ]
  },
  {
   "cell_type": "code",
   "execution_count": 64,
   "id": "3c686696",
   "metadata": {},
   "outputs": [
    {
     "name": "stdout",
     "output_type": "stream",
     "text": [
      "hsegoy\n",
      "Reverse.\n"
     ]
    }
   ],
   "source": [
    "# Answer 4)\n",
    "\n",
    "def reverse(x,y):    \n",
    "    x = \"yogesh\"\n",
    "    y = \"\"\n",
    "\n",
    "    for i in x:\n",
    "        y = i + y\n",
    "    print(y)\n",
    "\n",
    "    if (x!=y):\n",
    "        print(\"Reverse.\")\n",
    "    else:\n",
    "        print(\"Not Reverse.\")\n",
    "reverse(x,y)"
   ]
  },
  {
   "cell_type": "code",
   "execution_count": null,
   "id": "44dffcd3",
   "metadata": {},
   "outputs": [],
   "source": [
    "Question 5) Wap to find odd number using function."
   ]
  },
  {
   "cell_type": "code",
   "execution_count": 41,
   "id": "89a900b2",
   "metadata": {},
   "outputs": [
    {
     "name": "stdout",
     "output_type": "stream",
     "text": [
      "Enter your Number.57\n",
      "Odd Number.\n"
     ]
    }
   ],
   "source": [
    "# Answer 5)\n",
    "\n",
    "def odd(number):\n",
    "    if number%2!=0:\n",
    "        print(\"Odd Number.\")\n",
    "    elif number%2==0:\n",
    "        print(\"Even Number.\")\n",
    "    else:\n",
    "        print(\"Invalid Input.\")\n",
    "number = int(input(\"Enter your Number.\"))\n",
    "odd(number)"
   ]
  },
  {
   "cell_type": "code",
   "execution_count": null,
   "id": "ad063868",
   "metadata": {},
   "outputs": [],
   "source": [
    "Question 6) wap to find even no. using function."
   ]
  },
  {
   "cell_type": "code",
   "execution_count": 50,
   "id": "32e462c9",
   "metadata": {},
   "outputs": [
    {
     "name": "stdout",
     "output_type": "stream",
     "text": [
      "Enter your Number.88\n",
      "Even Number.\n"
     ]
    }
   ],
   "source": [
    "# Answer 6)\n",
    "\n",
    "def even(number):\n",
    "    if number%2==0:\n",
    "        print(\"Even Number.\")\n",
    "    elif number%2!=0:\n",
    "        print(\"Odd Number.\")\n",
    "    else:\n",
    "        print(\"Invalid Input.\")\n",
    "number = int(input(\"Enter your Number.\"))\n",
    "even(number)"
   ]
  },
  {
   "cell_type": "code",
   "execution_count": null,
   "id": "e59e9909",
   "metadata": {},
   "outputs": [],
   "source": [
    "Question 7) Write a function to check a string is palindrome or not?"
   ]
  },
  {
   "cell_type": "code",
   "execution_count": 69,
   "id": "ab24cf4c",
   "metadata": {},
   "outputs": [
    {
     "name": "stdout",
     "output_type": "stream",
     "text": [
      "nitin\n",
      "Palindrome.\n"
     ]
    }
   ],
   "source": [
    "# Answer 7)\n",
    "\n",
    "def palindrome(x,y):\n",
    "    x = \"nitin\"\n",
    "    y = \"\"\n",
    "    \n",
    "    for i in x:\n",
    "        y = i + y\n",
    "    print(y)\n",
    "    \n",
    "    if x == y:\n",
    "        print(\"Palindrome.\")\n",
    "    elif x!=y:\n",
    "        print(\"Not Palindrome.\")\n",
    "    else:\n",
    "        print(\"Invalid Input.\")\n",
    "palindrome(x,y)    "
   ]
  },
  {
   "cell_type": "code",
   "execution_count": null,
   "id": "d423d530",
   "metadata": {},
   "outputs": [],
   "source": [
    "Question 8) Wap to sum the first 10 natural numbers using function?"
   ]
  },
  {
   "cell_type": "code",
   "execution_count": 70,
   "id": "ec18aba9",
   "metadata": {},
   "outputs": [
    {
     "name": "stdout",
     "output_type": "stream",
     "text": [
      "55\n"
     ]
    }
   ],
   "source": [
    "# Answer 8)\n",
    "\n",
    "def natural_number(a):\n",
    "    a = 0\n",
    "    for i in range(1,11):\n",
    "        a = i + a\n",
    "    print(a)\n",
    "natural_number(a)"
   ]
  },
  {
   "cell_type": "code",
   "execution_count": null,
   "id": "05d73906",
   "metadata": {},
   "outputs": [],
   "source": [
    " Question 9) Wap to calculate the percentage of 5 students??"
   ]
  },
  {
   "cell_type": "code",
   "execution_count": 107,
   "id": "e7e3ff22",
   "metadata": {},
   "outputs": [
    {
     "name": "stdout",
     "output_type": "stream",
     "text": [
      "Enter the marks of five subjects::\n",
      "Enter First Subject Marks.50\n",
      "Enter Second Subject Marks.52\n",
      "Enter Third Subject Marks.54\n",
      "Enter Fourth Subject Marks.59\n",
      "Enter Fifth Subject Marks.53\n",
      "53.6\n"
     ]
    }
   ],
   "source": [
    "# Answer 9)\n",
    "\n",
    "def percentage(total_marks):\n",
    "    print(\"Enter the marks of five subjects::\")\n",
    "    sub1 = float(input(\"Enter First Subject Marks.\"))\n",
    "    sub2 = float(input(\"Enter Second Subject Marks.\"))\n",
    "    sub3 = float(input(\"Enter Third Subject Marks.\"))\n",
    "    sub4 = float(input(\"Enter Fourth Subject Marks.\"))\n",
    "    sub5 = float(input(\"Enter Fifth Subject Marks.\"))\n",
    "    \n",
    "    total_marks = sub1 + sub2 + sub3 + sub4 + sub5\n",
    "    per = (total_marks/500)*100\n",
    "    print(per)\n",
    "percentage(total_marks)"
   ]
  },
  {
   "cell_type": "code",
   "execution_count": 106,
   "id": "75363f89",
   "metadata": {},
   "outputs": [
    {
     "name": "stdout",
     "output_type": "stream",
     "text": [
      "Enter the marks of five subjects::\n",
      "Enter First Subject Marks.50\n",
      "Enter Second Subject Marks.65\n",
      "Enter Third Subject Marks.54\n",
      "Enter Fourth Subject Marks.85\n",
      "Enter Fifth Subject Marks.55\n",
      "61.8\n"
     ]
    }
   ],
   "source": [
    "print(\"Enter the marks of five subjects::\")\n",
    "sub1 = float(input(\"Enter First Subject Marks.\"))\n",
    "sub2 = float(input(\"Enter Second Subject Marks.\"))\n",
    "sub3 = float(input(\"Enter Third Subject Marks.\"))\n",
    "sub4 = float(input(\"Enter Fourth Subject Marks.\"))\n",
    "sub5 = float(input(\"Enter Fifth Subject Marks.\"))\n",
    "    \n",
    "total_marks = sub1 + sub2 + sub3 + sub4 + sub5\n",
    "per = (total_marks/500)*100\n",
    "print(per)"
   ]
  },
  {
   "cell_type": "code",
   "execution_count": null,
   "id": "b74e5112",
   "metadata": {},
   "outputs": [],
   "source": [
    "Question 10) Wap to find out the average cost of 5 quantity each\n",
    "             quantity is having the value of 80 and if the value exceed by\n",
    "             avg value then also calculate the total price of whole quantity\n",
    "             avg value => 350"
   ]
  },
  {
   "cell_type": "code",
   "execution_count": 100,
   "id": "6a549394",
   "metadata": {},
   "outputs": [
    {
     "name": "stdout",
     "output_type": "stream",
     "text": [
      "Total price of whole Quantity is = 422\n",
      "the average of 5 Quantity is = 84.4\n"
     ]
    }
   ],
   "source": [
    "# Answer 10)\n",
    "\n",
    "def avg(a,b,c,d,e):\n",
    "    a = 85\n",
    "    b = 82\n",
    "    c = 88\n",
    "    d = 86\n",
    "    e = 81\n",
    "    sum = a+b+c+d+e\n",
    "    average = (a+b+c+d+e)/5\n",
    "    ave_value = 350\n",
    "    if sum>ave_value:\n",
    "        print(\"Total price of whole Quantity is =\",sum)\n",
    "        print(\"the average of 5 Quantity is =\",average)   \n",
    "    else:\n",
    "        print(\"Invalid Input.\")\n",
    "avg(a,b,c,d,e)"
   ]
  },
  {
   "cell_type": "code",
   "execution_count": null,
   "id": "0daa7661",
   "metadata": {},
   "outputs": [],
   "source": [
    "Question 11) Wap to find the area and circumference of circle and also try to find\n",
    "            if this circle is going to be square or not?"
   ]
  },
  {
   "cell_type": "code",
   "execution_count": 96,
   "id": "ce6d2b57",
   "metadata": {},
   "outputs": [
    {
     "name": "stdout",
     "output_type": "stream",
     "text": [
      "area of circle is = 6358.5\n",
      "area of circumference = 282.6\n",
      "This is not a square.\n"
     ]
    }
   ],
   "source": [
    "# Answer 11)\n",
    "\n",
    "# area_of_circle = pie * (radius**2)\n",
    "# area_of_circumference = 2 * pie * radius\n",
    "\n",
    "def circle(radius,pie):\n",
    "    radius = 45\n",
    "    pie = 3.14\n",
    "    area_of_circle = pie * (radius**2)\n",
    "    area_of_circumference = 2 * pie * radius\n",
    "    print(\"area of circle is =\",area_of_circle)\n",
    "    print(\"area of circumference =\",area_of_circumference)\n",
    "    \n",
    "    if area_of_circle == area_of_circumference:\n",
    "        print(\"this is square.\")\n",
    "    elif area_of_circle != area_of_circumference:\n",
    "        print(\"This is not a square.\")\n",
    "    else:\n",
    "        print(\"Invalid Input.\")\n",
    "circle(radius,pie)            "
   ]
  },
  {
   "cell_type": "code",
   "execution_count": null,
   "id": "6e3cb810",
   "metadata": {},
   "outputs": [],
   "source": [
    "Question 12) Calculate the total area of a land having l=20 b=30.If the land\n",
    "            is greater than 100sq fit then also calculate the cost of  \n",
    "            remaining land. Price of land is 20000K."
   ]
  },
  {
   "cell_type": "code",
   "execution_count": 94,
   "id": "48222428",
   "metadata": {},
   "outputs": [
    {
     "name": "stdout",
     "output_type": "stream",
     "text": [
      "100000\n"
     ]
    }
   ],
   "source": [
    "# Answer 12)\n",
    "\n",
    "def cost_of_land(l,b):\n",
    "    l = 20\n",
    "    b = 30\n",
    "    total_area_of_a_land = l * b\n",
    "    if (total_area_of_a_land>100):\n",
    "        remaining_land = total_area_of_a_land - 100\n",
    "        cost_of_remaning_land = remaining_land * 200\n",
    "        print(cost_of_remaning_land)\n",
    "cost_of_land(l,b)"
   ]
  }
 ],
 "metadata": {
  "kernelspec": {
   "display_name": "Python 3 (ipykernel)",
   "language": "python",
   "name": "python3"
  },
  "language_info": {
   "codemirror_mode": {
    "name": "ipython",
    "version": 3
   },
   "file_extension": ".py",
   "mimetype": "text/x-python",
   "name": "python",
   "nbconvert_exporter": "python",
   "pygments_lexer": "ipython3",
   "version": "3.9.12"
  }
 },
 "nbformat": 4,
 "nbformat_minor": 5
}
