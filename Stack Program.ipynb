{
 "cells": [
  {
   "cell_type": "markdown",
   "id": "f0f0c9b9",
   "metadata": {},
   "source": [
    "# Stack Program"
   ]
  },
  {
   "cell_type": "code",
   "execution_count": null,
   "id": "9c615216",
   "metadata": {},
   "outputs": [
    {
     "name": "stdout",
     "output_type": "stream",
     "text": [
      "\n",
      "    1) push elements\n",
      "    2) pop\n",
      "    3) peek\n",
      "    4) display stack\n",
      "    5) exit\n",
      "    1\n",
      "Enter the Value.\n",
      "10\n",
      "['10']\n",
      "\n",
      "    1) push elements\n",
      "    2) pop\n",
      "    3) peek\n",
      "    4) display stack\n",
      "    5) exit\n",
      "    1\n",
      "Enter the Value.\n",
      "20\n",
      "['10', '20']\n",
      "\n",
      "    1) push elements\n",
      "    2) pop\n",
      "    3) peek\n",
      "    4) display stack\n",
      "    5) exit\n",
      "    1\n",
      "Enter the Value.\n",
      "30\n",
      "['10', '20', '30']\n",
      "\n",
      "    1) push elements\n",
      "    2) pop\n",
      "    3) peek\n",
      "    4) display stack\n",
      "    5) exit\n",
      "    1\n",
      "Enter the Value.\n",
      "40\n",
      "['10', '20', '30', '40']\n",
      "\n",
      "    1) push elements\n",
      "    2) pop\n",
      "    3) peek\n",
      "    4) display stack\n",
      "    5) exit\n",
      "    3\n",
      "Last Stack Value = 40\n",
      "\n",
      "    1) push elements\n",
      "    2) pop\n",
      "    3) peek\n",
      "    4) display stack\n",
      "    5) exit\n",
      "    4\n",
      "Display Stuck = ['10', '20', '30', '40']\n"
     ]
    }
   ],
   "source": [
    "l = []\n",
    "while True:\n",
    "    c = int(input('''\n",
    "    1) push elements\n",
    "    2) pop\n",
    "    3) peek\n",
    "    4) display stack\n",
    "    5) exit\n",
    "    '''))\n",
    "    \n",
    "    if c == 1:\n",
    "        n = input(\"Enter the Value.\\n\")\n",
    "        l.append(n)\n",
    "        print(l)\n",
    "    elif c == 2:\n",
    "        if len(l) == 0:\n",
    "            print(\"Empty Stack.\")\n",
    "        else:\n",
    "            p = l.pop()\n",
    "            print(p)\n",
    "            print(l)\n",
    "    elif c == 3:\n",
    "        if len(l) == 0:\n",
    "            print(\"Empty Stack.\")\n",
    "        else:\n",
    "            print(\"Last Stack Value =\",l[-1])\n",
    "    elif c == 4:\n",
    "        print(\"Display Stuck =\",l)\n",
    "    elif c == 5:\n",
    "        break;\n",
    "    else:\n",
    "        print(\"Invalid Operation.\")"
   ]
  },
  {
   "cell_type": "code",
   "execution_count": null,
   "id": "03a4b477",
   "metadata": {},
   "outputs": [],
   "source": []
  }
 ],
 "metadata": {
  "kernelspec": {
   "display_name": "Python 3 (ipykernel)",
   "language": "python",
   "name": "python3"
  },
  "language_info": {
   "codemirror_mode": {
    "name": "ipython",
    "version": 3
   },
   "file_extension": ".py",
   "mimetype": "text/x-python",
   "name": "python",
   "nbconvert_exporter": "python",
   "pygments_lexer": "ipython3",
   "version": "3.9.12"
  }
 },
 "nbformat": 4,
 "nbformat_minor": 5
}
