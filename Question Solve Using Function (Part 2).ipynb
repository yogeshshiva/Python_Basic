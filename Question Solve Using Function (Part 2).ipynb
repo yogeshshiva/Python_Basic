{
 "cells": [
  {
   "cell_type": "markdown",
   "id": "48f1d480",
   "metadata": {},
   "source": [
    "# Question With Answer "
   ]
  },
  {
   "cell_type": "markdown",
   "id": "27ec3eba",
   "metadata": {},
   "source": [
    "Question )  Write to print 1 to 10 number for using while loop and function ?"
   ]
  },
  {
   "cell_type": "code",
   "execution_count": 8,
   "id": "f5404f97",
   "metadata": {},
   "outputs": [
    {
     "name": "stdout",
     "output_type": "stream",
     "text": [
      "1\n",
      "2\n",
      "3\n",
      "4\n",
      "5\n",
      "6\n",
      "7\n",
      "8\n",
      "9\n",
      "10\n"
     ]
    }
   ],
   "source": [
    "def number():\n",
    "    i = 1\n",
    "    while i < 11:\n",
    "        print(i)\n",
    "        i = i + 1\n",
    "number()"
   ]
  },
  {
   "cell_type": "markdown",
   "id": "a762297f",
   "metadata": {},
   "source": [
    "Question )  Write a program to print -1 to 10 by using both loop and function also ?"
   ]
  },
  {
   "cell_type": "code",
   "execution_count": 2,
   "id": "15e6194c",
   "metadata": {},
   "outputs": [
    {
     "name": "stdout",
     "output_type": "stream",
     "text": [
      "-1\n",
      "0\n",
      "1\n",
      "2\n",
      "3\n",
      "4\n",
      "5\n",
      "6\n",
      "7\n",
      "8\n",
      "9\n",
      "10\n"
     ]
    }
   ],
   "source": [
    "def num():\n",
    "    for i in range(-1,11):\n",
    "        print(i)\n",
    "num()"
   ]
  },
  {
   "cell_type": "code",
   "execution_count": 9,
   "id": "5b8115c0",
   "metadata": {},
   "outputs": [
    {
     "name": "stdout",
     "output_type": "stream",
     "text": [
      "-1\n",
      "0\n",
      "1\n",
      "2\n",
      "3\n",
      "4\n",
      "5\n",
      "6\n",
      "7\n",
      "8\n",
      "9\n",
      "10\n"
     ]
    }
   ],
   "source": [
    "def num():\n",
    "    i = -1\n",
    "    while i < 11:\n",
    "        print(i)\n",
    "        i = i + 1\n",
    "num()"
   ]
  },
  {
   "cell_type": "markdown",
   "id": "8ccec453",
   "metadata": {},
   "source": [
    "Question )  Write a program to print 1 to -10  and using function ?"
   ]
  },
  {
   "cell_type": "code",
   "execution_count": 5,
   "id": "c4935f48",
   "metadata": {},
   "outputs": [
    {
     "name": "stdout",
     "output_type": "stream",
     "text": [
      "1\n",
      "0\n",
      "-1\n",
      "-2\n",
      "-3\n",
      "-4\n",
      "-5\n",
      "-6\n",
      "-7\n",
      "-8\n",
      "-9\n",
      "-10\n"
     ]
    }
   ],
   "source": [
    "def program():\n",
    "    for i in range(1,-11,-1):\n",
    "        print(i)\n",
    "program()"
   ]
  },
  {
   "cell_type": "code",
   "execution_count": 10,
   "id": "0cf4b450",
   "metadata": {},
   "outputs": [
    {
     "name": "stdout",
     "output_type": "stream",
     "text": [
      "1\n",
      "0\n",
      "-1\n",
      "-2\n",
      "-3\n",
      "-4\n",
      "-5\n",
      "-6\n",
      "-7\n",
      "-8\n",
      "-9\n",
      "-10\n"
     ]
    }
   ],
   "source": [
    "def no():\n",
    "    i = 1\n",
    "    while i > -11:\n",
    "        print(i)\n",
    "        i = i - 1\n",
    "no()"
   ]
  },
  {
   "cell_type": "markdown",
   "id": "695314f4",
   "metadata": {},
   "source": [
    "Question )  Write a program to print -1 to -10 for using both loop and also using function ?"
   ]
  },
  {
   "cell_type": "code",
   "execution_count": 13,
   "id": "88b82b96",
   "metadata": {
    "scrolled": true
   },
   "outputs": [
    {
     "name": "stdout",
     "output_type": "stream",
     "text": [
      "-1\n",
      "-2\n",
      "-3\n",
      "-4\n",
      "-5\n",
      "-6\n",
      "-7\n",
      "-8\n",
      "-9\n",
      "-10\n"
     ]
    }
   ],
   "source": [
    "def reverse():\n",
    "    for i in range(-1,-11,-1):\n",
    "        print(i)\n",
    "reverse()"
   ]
  },
  {
   "cell_type": "code",
   "execution_count": 16,
   "id": "d77c1bd1",
   "metadata": {},
   "outputs": [
    {
     "name": "stdout",
     "output_type": "stream",
     "text": [
      "-1\n",
      "-2\n",
      "-3\n",
      "-4\n",
      "-5\n",
      "-6\n",
      "-7\n",
      "-8\n",
      "-9\n",
      "-10\n"
     ]
    }
   ],
   "source": [
    "def reverse_no():\n",
    "    i = -1\n",
    "    while i > -11:\n",
    "        print(i)\n",
    "        i = i - 1\n",
    "reverse_no()"
   ]
  },
  {
   "cell_type": "markdown",
   "id": "025ff565",
   "metadata": {},
   "source": [
    "Question )  Write a program to print even no from 1 to 50 and also try to count the numbers using both loop and also using function ?"
   ]
  },
  {
   "cell_type": "code",
   "execution_count": 9,
   "id": "e2d62821",
   "metadata": {},
   "outputs": [
    {
     "name": "stdout",
     "output_type": "stream",
     "text": [
      "2\n",
      "4\n",
      "6\n",
      "8\n",
      "10\n",
      "12\n",
      "14\n",
      "16\n",
      "18\n",
      "20\n",
      "22\n",
      "24\n",
      "26\n",
      "28\n",
      "30\n",
      "32\n",
      "34\n",
      "36\n",
      "38\n",
      "40\n",
      "42\n",
      "44\n",
      "46\n",
      "48\n",
      "50\n",
      "total even no is  25\n"
     ]
    }
   ],
   "source": [
    "def even():\n",
    "    count = 0\n",
    "    for i in range(2,51,2):\n",
    "        print(i)\n",
    "        count = count + 1\n",
    "    print(\"total even no is \",count)\n",
    "even()"
   ]
  },
  {
   "cell_type": "code",
   "execution_count": 19,
   "id": "8a1704bb",
   "metadata": {},
   "outputs": [
    {
     "name": "stdout",
     "output_type": "stream",
     "text": [
      "2\n",
      "4\n",
      "6\n",
      "8\n",
      "10\n",
      "12\n",
      "14\n",
      "16\n",
      "18\n",
      "20\n",
      "22\n",
      "24\n",
      "26\n",
      "28\n",
      "30\n",
      "32\n",
      "34\n",
      "36\n",
      "38\n",
      "40\n",
      "42\n",
      "44\n",
      "46\n",
      "48\n",
      "50\n",
      "The total even no is  25\n"
     ]
    }
   ],
   "source": [
    "def even_no():\n",
    "    count = 0\n",
    "    i = 2\n",
    "    while i < 51:\n",
    "        print(i)\n",
    "        i = i + 2        \n",
    "        count = count + 1\n",
    "    print(\"The total even no is \",count)\n",
    "even_no()"
   ]
  },
  {
   "cell_type": "markdown",
   "id": "f0ab5b01",
   "metadata": {},
   "source": [
    "Question )  Write a program to print odd no from 20 to 80 and also try to count the no for using both loops and also using function ?"
   ]
  },
  {
   "cell_type": "code",
   "execution_count": 24,
   "id": "ed63a0ae",
   "metadata": {},
   "outputs": [
    {
     "name": "stdout",
     "output_type": "stream",
     "text": [
      "21\n",
      "23\n",
      "25\n",
      "27\n",
      "29\n",
      "31\n",
      "33\n",
      "35\n",
      "37\n",
      "39\n",
      "41\n",
      "43\n",
      "45\n",
      "47\n",
      "49\n",
      "51\n",
      "53\n",
      "55\n",
      "57\n",
      "59\n",
      "61\n",
      "63\n",
      "65\n",
      "67\n",
      "69\n",
      "71\n",
      "73\n",
      "75\n",
      "77\n",
      "79\n",
      "total odd no is  30\n"
     ]
    }
   ],
   "source": [
    "def odd():\n",
    "    count = 0\n",
    "    for i in range(21,81,2):\n",
    "        print(i)\n",
    "        count = count + 1\n",
    "    print(\"total odd no is \",count)\n",
    "odd()"
   ]
  },
  {
   "cell_type": "markdown",
   "id": "489924b7",
   "metadata": {},
   "source": [
    "Question )  Write a program to check a string is reverse or not for using function ?"
   ]
  },
  {
   "cell_type": "code",
   "execution_count": 21,
   "id": "30bf9bfb",
   "metadata": {},
   "outputs": [
    {
     "name": "stdout",
     "output_type": "stream",
     "text": [
      "hsegoy\n",
      "Reverse.\n"
     ]
    }
   ],
   "source": [
    "def reverse():\n",
    "    x = \"yogesh\"\n",
    "    y = \"\"\n",
    "    for i in x:\n",
    "        y = i + y\n",
    "    print(y)\n",
    "\n",
    "    if x != y:\n",
    "        print(\"Reverse.\")\n",
    "    else:\n",
    "        print(\"Not Reverse.\")\n",
    "reverse()"
   ]
  },
  {
   "cell_type": "markdown",
   "id": "afc6414d",
   "metadata": {},
   "source": [
    "Question )  Write a program to check string is palindrome by using function ?"
   ]
  },
  {
   "cell_type": "code",
   "execution_count": 23,
   "id": "354b241f",
   "metadata": {},
   "outputs": [
    {
     "name": "stdout",
     "output_type": "stream",
     "text": [
      "nitin\n",
      "This is palindrome.\n"
     ]
    }
   ],
   "source": [
    "def palindrome():\n",
    "    x = \"nitin\"\n",
    "    y = \"\"\n",
    "    for i in x:\n",
    "        y = i + y\n",
    "    print(y)\n",
    "\n",
    "    if x == y:\n",
    "        print(\"This is palindrome.\")\n",
    "    else:\n",
    "        print(\"Not palindrome.\")\n",
    "palindrome()"
   ]
  },
  {
   "cell_type": "markdown",
   "id": "edc339a8",
   "metadata": {},
   "source": [
    "Question )  Write a program to add all the no present in a list. by using function ?                               \n",
    "L = [10,24,32,64]"
   ]
  },
  {
   "cell_type": "code",
   "execution_count": 27,
   "id": "0e523716",
   "metadata": {},
   "outputs": [
    {
     "name": "stdout",
     "output_type": "stream",
     "text": [
      "130\n"
     ]
    }
   ],
   "source": [
    "def add():\n",
    "    l = [10, 24, 32, 64]\n",
    "    a = 0\n",
    "    for i in l:\n",
    "        a = i + a\n",
    "    print(a)\n",
    "add()"
   ]
  },
  {
   "cell_type": "markdown",
   "id": "87918292",
   "metadata": {},
   "source": [
    "Question )  Write a program to multiply all the no present in a list by using Function ?                                   \n",
    "a = [2,6,3,5]"
   ]
  },
  {
   "cell_type": "code",
   "execution_count": 29,
   "id": "2a7d4e21",
   "metadata": {},
   "outputs": [
    {
     "name": "stdout",
     "output_type": "stream",
     "text": [
      "180\n"
     ]
    }
   ],
   "source": [
    "def multiply():\n",
    "    a = [2, 6, 3, 5]\n",
    "    b = 1\n",
    "    for i in a:\n",
    "        b = i * b\n",
    "    print(b)\n",
    "multiply()"
   ]
  },
  {
   "cell_type": "markdown",
   "id": "9c624cb9",
   "metadata": {},
   "source": [
    "Question )  Write a program to find the given data with the help of negative indexing by using function ?               \n",
    "a = \"Bahuballi\", 67.5, True, 878, False"
   ]
  },
  {
   "cell_type": "code",
   "execution_count": 47,
   "id": "10cb2e7d",
   "metadata": {},
   "outputs": [
    {
     "name": "stdout",
     "output_type": "stream",
     "text": [
      "[False, 878, True, 67.5, 'Bahuballi']\n"
     ]
    }
   ],
   "source": [
    "def negative():\n",
    "    a = [\"Bahuballi\", 67.5, True, 878, False]\n",
    "    print(a[-1:-6:-1])\n",
    "negative()"
   ]
  },
  {
   "cell_type": "markdown",
   "id": "5a699392",
   "metadata": {},
   "source": [
    "Question )  Change the data 45, 'Hello Bhai' in any data by using function ?                                         \n",
    "a = [23, 45, 'Hello Bhai', 'Sql']"
   ]
  },
  {
   "cell_type": "code",
   "execution_count": 49,
   "id": "2f758610",
   "metadata": {},
   "outputs": [
    {
     "name": "stdout",
     "output_type": "stream",
     "text": [
      "[23, 'yogesh', 866.85, 'Sql']\n"
     ]
    }
   ],
   "source": [
    "def data():\n",
    "    a = [23, 45, \"Hello Bhai\", \"Sql\"]\n",
    "    a[1:3]=[\"yogesh\", 866.85]\n",
    "    print(a)\n",
    "data()"
   ]
  }
 ],
 "metadata": {
  "kernelspec": {
   "display_name": "Python 3 (ipykernel)",
   "language": "python",
   "name": "python3"
  },
  "language_info": {
   "codemirror_mode": {
    "name": "ipython",
    "version": 3
   },
   "file_extension": ".py",
   "mimetype": "text/x-python",
   "name": "python",
   "nbconvert_exporter": "python",
   "pygments_lexer": "ipython3",
   "version": "3.9.12"
  }
 },
 "nbformat": 4,
 "nbformat_minor": 5
}
