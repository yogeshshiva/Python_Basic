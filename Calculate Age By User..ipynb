{
 "cells": [
  {
   "cell_type": "code",
   "execution_count": 1,
   "id": "678596a5",
   "metadata": {},
   "outputs": [
    {
     "name": "stdout",
     "output_type": "stream",
     "text": [
      "Enter your First age.\n",
      "76\n",
      "Enter your Second age.\n",
      "87\n",
      "Enter your Third age.\n",
      "65\n",
      "Enter your Fourth age.\n",
      "45\n",
      "age2 is greater than age1, age3 and age4.\n"
     ]
    }
   ],
   "source": [
    "age1 = int(input(\"Enter your First age.\\n\"))\n",
    "age2 = int(input(\"Enter your Second age.\\n\"))\n",
    "age3 = int(input(\"Enter your Third age.\\n\"))\n",
    "age4 = int(input(\"Enter your Fourth age.\\n\"))\n",
    "\n",
    "if (age1>age2) and (age1>age3) and (age1>age4):\n",
    "    print(\"age1 is greater than age2, age3 and age4\")\n",
    "elif (age2>age1) and (age2>age3) and (age2>age4):\n",
    "    print(\"age2 is greater than age1, age3 and age4.\")\n",
    "elif (age3>age1) and (age3>age2) and (age3>age4):\n",
    "    print(\"age3 is greater than age1, age2 and age4.\")\n",
    "elif (age4>age1) and (age4>age2) and (age4>age3):\n",
    "    print(\"age4 is greater than age1, age2 and age3.\")\n",
    "else:\n",
    "    print(\"Invalid Input.\")"
   ]
  },
  {
   "cell_type": "code",
   "execution_count": null,
   "id": "b891b44f",
   "metadata": {},
   "outputs": [],
   "source": []
  }
 ],
 "metadata": {
  "kernelspec": {
   "display_name": "Python 3 (ipykernel)",
   "language": "python",
   "name": "python3"
  },
  "language_info": {
   "codemirror_mode": {
    "name": "ipython",
    "version": 3
   },
   "file_extension": ".py",
   "mimetype": "text/x-python",
   "name": "python",
   "nbconvert_exporter": "python",
   "pygments_lexer": "ipython3",
   "version": "3.9.12"
  }
 },
 "nbformat": 4,
 "nbformat_minor": 5
}
