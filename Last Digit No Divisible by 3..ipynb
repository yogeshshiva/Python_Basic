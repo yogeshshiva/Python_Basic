{
 "cells": [
  {
   "cell_type": "markdown",
   "id": "ceb37dab",
   "metadata": {},
   "source": [
    "# Check last digit No divisible by 3."
   ]
  },
  {
   "cell_type": "code",
   "execution_count": 2,
   "id": "1b7393b3",
   "metadata": {},
   "outputs": [
    {
     "name": "stdout",
     "output_type": "stream",
     "text": [
      "Enter your that number which last digit is divisible by 3.\n",
      "5242516543\n",
      "Here Last Digit Number is Divisible by 3.\n"
     ]
    }
   ],
   "source": [
    "num = int(input(\"Enter your that number which last digit is divisible by 3.\\n\"))\n",
    "\n",
    "a = num % 10\n",
    "\n",
    "if (a % 3 == 0):\n",
    "    print(\"Here Last Digit Number is Divisible by 3.\")\n",
    "elif (a % 3 != 0):\n",
    "    print(\"Here Last Digit Number is Not Divisible by 3.\")\n",
    "else:\n",
    "    print(\"Invalid Input.\")"
   ]
  }
 ],
 "metadata": {
  "kernelspec": {
   "display_name": "Python 3 (ipykernel)",
   "language": "python",
   "name": "python3"
  },
  "language_info": {
   "codemirror_mode": {
    "name": "ipython",
    "version": 3
   },
   "file_extension": ".py",
   "mimetype": "text/x-python",
   "name": "python",
   "nbconvert_exporter": "python",
   "pygments_lexer": "ipython3",
   "version": "3.9.12"
  }
 },
 "nbformat": 4,
 "nbformat_minor": 5
}
